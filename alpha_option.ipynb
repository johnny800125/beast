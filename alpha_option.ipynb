{
 "cells": [
  {
   "cell_type": "code",
   "execution_count": 1,
   "metadata": {},
   "outputs": [],
   "source": [
    "import numpy as np\n",
    "import pandas as pd \n",
    "import matplotlib.pyplot as plt\n",
    "from statsmodels.regression.linear_model import OLS\n",
    "\n",
    "from tqdm import trange\n",
    "import seaborn as sns\n",
    "from scipy import stats\n",
    "import statsmodels.api as sm\n",
    "\n"
   ]
  },
  {
   "cell_type": "code",
   "execution_count": null,
   "metadata": {},
   "outputs": [],
   "source": []
  },
  {
   "cell_type": "markdown",
   "metadata": {},
   "source": [
    "### 讀檔"
   ]
  },
  {
   "cell_type": "code",
   "execution_count": 2,
   "metadata": {
    "scrolled": true
   },
   "outputs": [],
   "source": [
    "df = pd.read_csv(\"C:/Users/user/Desktop/2330_all.csv\")"
   ]
  },
  {
   "cell_type": "markdown",
   "metadata": {},
   "source": [
    "# 定義code"
   ]
  },
  {
   "cell_type": "code",
   "execution_count": 3,
   "metadata": {},
   "outputs": [],
   "source": [
    "import math\n",
    "\n",
    "\"\"\" \n",
    "Stores common attributes of a stock option \n",
    "\"\"\"\n",
    "class StockOption(object):\n",
    "    def __init__(\n",
    "        self, S0, K, r=0.05, T=1, N=2, pu=0, pd=0, \n",
    "        div=0, sigma=0, is_put=False, is_am=False):\n",
    "        \"\"\"\n",
    "        Initialize the stock option base class.\n",
    "        Defaults to European call unless specified.\n",
    "\n",
    "        :param S0: initial stock price\n",
    "        :param K: strike price\n",
    "        :param r: risk-free interest rate\n",
    "        :param T: time to maturity\n",
    "        :param N: number of time steps\n",
    "        :param pu: probability at up state\n",
    "        :param pd: probability at down state\n",
    "        :param div: Dividend yield\n",
    "        :param is_put: True for a put option,\n",
    "                False for a call option\n",
    "        :param is_am: True for an American option,\n",
    "                False for a European option\n",
    "        \"\"\"\n",
    "        self.S0 = S0\n",
    "        self.K = K\n",
    "        self.r = r\n",
    "        self.T = T\n",
    "        self.N = max(1, N)\n",
    "        self.STs = [] # Declare the stock prices tree\n",
    "\n",
    "        \"\"\" Optional parameters used by derived classes \"\"\"\n",
    "        self.pu, self.pd = pu, pd\n",
    "        self.div = div\n",
    "        self.sigma = sigma\n",
    "        self.is_call = not is_put\n",
    "        self.is_european = not is_am\n",
    "\n",
    "    @property\n",
    "    def dt(self):\n",
    "        \"\"\" Single time step, in years \"\"\"\n",
    "        return self.T/float(self.N)\n",
    "\n",
    "    @property\n",
    "    def df(self):\n",
    "        \"\"\" The discount factor \"\"\"\n",
    "        return math.exp(-(self.r-self.div)*self.dt)"
   ]
  },
  {
   "cell_type": "code",
   "execution_count": 4,
   "metadata": {},
   "outputs": [],
   "source": [
    "import math\n",
    "import numpy as np\n",
    "\n",
    "\"\"\" \n",
    "Price a European or American option by the binomial tree \n",
    "\"\"\"\n",
    "class BinomialTreeOption(StockOption):\n",
    "\n",
    "    def setup_parameters(self):\n",
    "        self.u = 1+self.pu  # Expected value in the up state\n",
    "        self.d = 1-self.pd  # Expected value in the down state\n",
    "        self.qu = (math.exp(\n",
    "            (self.r-self.div)*self.dt)-self.d)/(self.u-self.d)\n",
    "        self.qd = 1-self.qu\n",
    "\n",
    "    def init_stock_price_tree(self):\n",
    "        # Initialize a 2D tree at T=0\n",
    "        self.STs = [np.array([self.S0])]\n",
    "\n",
    "        # Simulate the possible stock prices path\n",
    "        for i in range(self.N):\n",
    "            prev_branches = self.STs[-1]\n",
    "            st = np.concatenate(\n",
    "                (prev_branches*self.u, \n",
    "                 [prev_branches[-1]*self.d]))\n",
    "            self.STs.append(st) # Add nodes at each time step\n",
    "\n",
    "    def init_payoffs_tree(self):\n",
    "        if self.is_call:\n",
    "            return np.maximum(0, self.STs[self.N]-self.K)\n",
    "        else:\n",
    "            return np.maximum(0, self.K-self.STs[self.N])\n",
    "\n",
    "    def check_early_exercise(self, payoffs, node):\n",
    "        if self.is_call:\n",
    "            return np.maximum(payoffs, self.STs[node] - self.K)\n",
    "        else:\n",
    "            return np.maximum(payoffs, self.K - self.STs[node])\n",
    "\n",
    "    def traverse_tree(self, payoffs):\n",
    "        for i in reversed(range(self.N)):\n",
    "            # The payoffs from NOT exercising the option\n",
    "            payoffs = (payoffs[:-1]*self.qu + \n",
    "                       payoffs[1:]*self.qd)*self.df\n",
    "\n",
    "            # Payoffs from exercising, for American options\n",
    "            if not self.is_european:\n",
    "                payoffs = self.check_early_exercise(payoffs,i)\n",
    "\n",
    "        return payoffs\n",
    "\n",
    "    def begin_tree_traversal(self):\n",
    "        payoffs = self.init_payoffs_tree()\n",
    "        return self.traverse_tree(payoffs)\n",
    "\n",
    "    def price(self):\n",
    "        \"\"\"  The pricing implementation \"\"\"\n",
    "        self.setup_parameters()\n",
    "        self.init_stock_price_tree()\n",
    "        payoffs = self.begin_tree_traversal()\n",
    "        return payoffs[0]"
   ]
  },
  {
   "cell_type": "code",
   "execution_count": 5,
   "metadata": {},
   "outputs": [],
   "source": [
    "import math\n",
    "import numpy as np\n",
    "\n",
    "class TrinomialTreeOption(BinomialTreeOption):\n",
    "\n",
    "    def setup_parameters(self):\n",
    "        \"\"\" Required calculations for the model \"\"\"\n",
    "        self.u = 1\n",
    "        self.d = 1\n",
    "        self.m = 0\n",
    "        self.qu = 0.05\n",
    "        self.qd = 0.05\n",
    "\n",
    "        self.qm = 1 - self.qu - self.qd\n",
    "\n",
    "    def init_stock_price_tree(self):\n",
    "        # Initialize a 2D tree at t=0\n",
    "        self.STs = [np.array([self.S0])]\n",
    "\n",
    "        for i in range(self.N):\n",
    "            prev_nodes = self.STs[-1]\n",
    "            self.ST = np.concatenate(\n",
    "                (prev_nodes+self.u, [prev_nodes[-1]+self.m,\n",
    "                                     prev_nodes[-1]-self.d]))\n",
    "            self.STs.append(self.ST)\n",
    "\n",
    "    def traverse_tree(self, payoffs):\n",
    "        # Traverse the tree backwards \n",
    "        for i in reversed(range(self.N)):\n",
    "            payoffs = (payoffs[:-2] * self.qu +\n",
    "                       payoffs[1:-1] * self.qm +\n",
    "                       payoffs[2:] * self.qd) * self.df\n",
    "\n",
    "            if not self.is_european:\n",
    "                payoffs = self.check_early_exercise(payoffs,i)\n",
    "\n",
    "        return payoffs"
   ]
  },
  {
   "cell_type": "code",
   "execution_count": 6,
   "metadata": {},
   "outputs": [],
   "source": [
    "import numpy as np\n",
    "\n",
    "\"\"\" \n",
    "Price an option by the trinomial lattice \n",
    "\"\"\"\n",
    "class TrinomialLattice(TrinomialTreeOption):\n",
    "\n",
    "    def setup_parameters(self):\n",
    "        super(TrinomialLattice, self).setup_parameters()\n",
    "        self.M = 2*self.N + 1\n",
    "\n",
    "    def init_stock_price_tree(self):\n",
    "        self.STs = np.zeros(self.M)\n",
    "        self.STs[0] = self.S0 * self.u**self.N\n",
    "\n",
    "        for i in range(self.M)[1:]:\n",
    "            self.STs[i] = self.STs[i-1]*self.d\n",
    "\n",
    "    def init_payoffs_tree(self):\n",
    "        if self.is_call:\n",
    "            return np.maximum(0, self.STs-self.K)\n",
    "        else:\n",
    "            return np.maximum(0, self.K-self.STs)\n",
    "\n",
    "    def check_early_exercise(self, payoffs, node):\n",
    "        self.STs = self.STs[1:-1]  # Shorten ends of the list\n",
    "        if self.is_call:\n",
    "            return np.maximum(payoffs, self.STs-self.K)\n",
    "        else:\n",
    "            return np.maximum(payoffs, self.K-self.STs)"
   ]
  },
  {
   "cell_type": "code",
   "execution_count": 7,
   "metadata": {
    "scrolled": true
   },
   "outputs": [],
   "source": [
    "df = df[df[\"ask_1\"]!= 0]\n",
    "df = df.dropna()"
   ]
  },
  {
   "cell_type": "code",
   "execution_count": 8,
   "metadata": {},
   "outputs": [],
   "source": [
    "df = df.reset_index()"
   ]
  },
  {
   "cell_type": "code",
   "execution_count": 9,
   "metadata": {},
   "outputs": [],
   "source": [
    "spread_1 = TrinomialTreeOption(581, 580.5, \n",
    "    r=0.0001, T=1, N=240, sigma=0.006, is_put=True, is_am=True)\n",
    "spread_2 = TrinomialTreeOption(582, 580.5, \n",
    "    r=0.0001, T=1, N=240, sigma=0.006, is_put=True, is_am=True)\n",
    "spread_3 = TrinomialTreeOption(583, 580.5, \n",
    "    r=0.0001, T=1, N=240, sigma=0.006, is_put=True, is_am=True)\n",
    "spread_4 = TrinomialTreeOption(584, 580.5, \n",
    "    r=0.0001, T=1, N=240, sigma=0.006, is_put=True, is_am=True)\n",
    "spread_5 = TrinomialTreeOption(585, 580.5, \n",
    "    r=0.0001, T=1, N=240, sigma=0.006, is_put=True, is_am=True)\n",
    "spread_6 = TrinomialTreeOption(586, 580.5, \n",
    "    r=0.0001, T=1, N=240, sigma=0.006, is_put=True, is_am=True)\n",
    "spread_7 = TrinomialTreeOption(587, 580.5, \n",
    "    r=0.0001, T=1, N=240, sigma=0.006, is_put=True, is_am=True)\n"
   ]
  },
  {
   "cell_type": "code",
   "execution_count": 10,
   "metadata": {},
   "outputs": [],
   "source": [
    "spread_11 = TrinomialTreeOption(581, 580, \n",
    "    r=0.0001, T=1, N=240, sigma=0.006, is_put=True, is_am=True)\n",
    "spread_12 = TrinomialTreeOption(582, 580, \n",
    "    r=0.0001, T=1, N=240, sigma=0.006, is_put=True, is_am=True)\n",
    "spread_13 = TrinomialTreeOption(583, 580, \n",
    "    r=0.0001, T=1, N=240, sigma=0.006, is_put=True, is_am=True)\n",
    "spread_14 = TrinomialTreeOption(584, 580, \n",
    "    r=0.0001, T=1, N=240, sigma=0.006, is_put=True, is_am=True)\n",
    "spread_15 = TrinomialTreeOption(585, 580, \n",
    "    r=0.0001, T=1, N=240, sigma=0.006, is_put=True, is_am=True)\n"
   ]
  },
  {
   "cell_type": "code",
   "execution_count": 11,
   "metadata": {},
   "outputs": [],
   "source": [
    "para_1 = spread_1.price()\n",
    "para_2 = spread_2.price()\n",
    "para_3 = spread_3.price()\n",
    "para_4 = spread_4.price()\n",
    "para_5 = spread_5.price()\n",
    "para_6 = spread_6.price()\n",
    "para_7 = spread_7.price()\n",
    "para_11 = spread_11.price()\n",
    "para_12 = spread_12.price()\n",
    "para_13 = spread_13.price()\n",
    "para_14 = spread_14.price()\n",
    "para_15 = spread_15.price()\n",
    "\n",
    "para_all5 = para_1+para_2+para_3+para_4+para_5\n",
    "para_all6 = para_2+para_3+para_4+para_5+para_6\n",
    "para_all7 = para_7+para_3+para_4+para_5+para_6"
   ]
  },
  {
   "cell_type": "code",
   "execution_count": 12,
   "metadata": {
    "scrolled": false
   },
   "outputs": [
    {
     "name": "stderr",
     "output_type": "stream",
     "text": [
      "  0%|                                                                                        | 0/57017 [00:00<?, ?it/s]C:\\Users\\user\\Anaconda3\\lib\\site-packages\\pandas\\core\\indexing.py:205: SettingWithCopyWarning: \n",
      "A value is trying to be set on a copy of a slice from a DataFrame\n",
      "\n",
      "See the caveats in the documentation: http://pandas.pydata.org/pandas-docs/stable/user_guide/indexing.html#returning-a-view-versus-a-copy\n",
      "  self._setitem_with_indexer(indexer, value)\n",
      "100%|██████████████████████████████████████████████████████████████████████████| 57017/57017 [00:23<00:00, 2404.83it/s]\n"
     ]
    }
   ],
   "source": [
    "df[\"theo_option\"] = df[\"ask_1\"]\n",
    "for i in trange(0,len(df[\"theo_option\"])):\n",
    "    if df[\"ask_1\"].iloc[i] - df[\"bid_1\"].iloc[i] == 2:\n",
    "        df[\"theo_option\"].iloc[i] = df[\"bid_1\"].iloc[i]+(df[\"bid_qty1\"].iloc[i]*para_11+df[\"bid_qty2\"].iloc[i]*para_12+df[\"bid_qty3\"].iloc[i]*para_13+df[\"bid_qty4\"].iloc[i]*para_14+df[\"bid_qty5\"].iloc[i]*para_15)/((df[\"ask_qty1\"].iloc[i]*para_11+df[\"ask_qty2\"].iloc[i]*para_12+df[\"ask_qty3\"].iloc[i]*para_13+df[\"ask_qty4\"].iloc[i]*para_14+df[\"ask_qty5\"].iloc[i]*para_15+df[\"bid_qty1\"].iloc[i]*para_11+df[\"bid_qty2\"].iloc[i]*para_12+df[\"bid_qty3\"].iloc[i]*para_13+df[\"bid_qty4\"].iloc[i]*para_14+df[\"bid_qty5\"].iloc[i]*para_15))\n",
    "    elif df[\"ask_1\"].iloc[i] - df[\"bid_1\"].iloc[i] == 3:\n",
    "        df[\"theo_option\"].iloc[i] = df[\"bid_1\"].iloc[i]+(df[\"bid_qty1\"].iloc[i]*para_2+df[\"bid_qty2\"].iloc[i]*para_3+df[\"bid_qty3\"].iloc[i]*para_4+df[\"bid_qty4\"].iloc[i]*para_5+df[\"bid_qty5\"].iloc[i]*para_6)/((df[\"ask_qty1\"].iloc[i]*para_2+df[\"ask_qty2\"].iloc[i]*para_3+df[\"ask_qty3\"].iloc[i]*para_4+df[\"ask_qty4\"].iloc[i]*para_5+df[\"ask_qty5\"].iloc[i]*para_6+df[\"bid_qty1\"].iloc[i]*para_2+df[\"bid_qty2\"].iloc[i]*para_3+df[\"bid_qty3\"].iloc[i]*para_4+df[\"bid_qty4\"].iloc[i]*para_5+df[\"bid_qty5\"].iloc[i]*para_6))\n",
    "    else:\n",
    "        df[\"theo_option\"].iloc[i] = df[\"bid_1\"].iloc[i]+(df[\"bid_qty1\"].iloc[i]*para_1+df[\"bid_qty2\"].iloc[i]*para_2+df[\"bid_qty3\"].iloc[i]*para_3+df[\"bid_qty4\"].iloc[i]*para_4+df[\"bid_qty5\"].iloc[i]*para_5)/((df[\"ask_qty1\"].iloc[i]*para_1+df[\"ask_qty2\"].iloc[i]*para_2+df[\"ask_qty3\"].iloc[i]*para_3+df[\"ask_qty4\"].iloc[i]*para_4+df[\"ask_qty5\"].iloc[i]*para_5+df[\"bid_qty1\"].iloc[i]*para_1+df[\"bid_qty2\"].iloc[i]*para_2+df[\"bid_qty3\"].iloc[i]*para_3+df[\"bid_qty4\"].iloc[i]*para_4+df[\"bid_qty5\"].iloc[i]*para_5))"
   ]
  },
  {
   "cell_type": "code",
   "execution_count": 13,
   "metadata": {},
   "outputs": [
    {
     "data": {
      "text/plain": [
       "0        581.531228\n",
       "1        581.532256\n",
       "2        581.532558\n",
       "3        581.536846\n",
       "4        581.544127\n",
       "            ...    \n",
       "57012    590.474049\n",
       "57013    590.463442\n",
       "57014    590.471471\n",
       "57015    590.474663\n",
       "57016    590.469186\n",
       "Name: theo_option, Length: 57017, dtype: float64"
      ]
     },
     "execution_count": 13,
     "metadata": {},
     "output_type": "execute_result"
    }
   ],
   "source": [
    "df[\"theo_option\"]"
   ]
  },
  {
   "cell_type": "code",
   "execution_count": 14,
   "metadata": {},
   "outputs": [
    {
     "data": {
      "text/plain": [
       "[<matplotlib.lines.Line2D at 0x1d25045dc08>]"
      ]
     },
     "execution_count": 14,
     "metadata": {},
     "output_type": "execute_result"
    },
    {
     "data": {
      "image/png": "[encoded data removed]",
      "text/plain": [
       "<Figure size 432x288 with 1 Axes>"
      ]
     },
     "metadata": {
      "needs_background": "light"
     },
     "output_type": "display_data"
    }
   ],
   "source": [
    "plt.plot(df[\"ask_1\"][2000:4000])\n",
    "plt.plot(df[\"bid_1\"][2000:4000])\n",
    "plt.plot(df[\"theo_option\"][2000:4000])\n",
    "# plt.plot(df[\"theo\"][0:10000])"
   ]
  },
  {
   "cell_type": "code",
   "execution_count": 15,
   "metadata": {},
   "outputs": [],
   "source": [
    "df[\"theo_option_pct\"] = df[\"theo_option\"].pct_change(1)\n",
    "df = df.dropna()"
   ]
  },
  {
   "cell_type": "code",
   "execution_count": 167,
   "metadata": {
    "scrolled": true
   },
   "outputs": [
    {
     "name": "stdout",
     "output_type": "stream",
     "text": [
      "range(0, 29)\n"
     ]
    }
   ],
   "source": [
    "print(range(29))"
   ]
  },
  {
   "cell_type": "code",
   "execution_count": 16,
   "metadata": {
    "scrolled": true
   },
   "outputs": [
    {
     "data": {
      "text/plain": [
       "Int64Index([   1,    2,    3,    4,    5,    6,    7,    8,    9,   10,\n",
       "            ...\n",
       "             991,  992,  993,  994,  995,  996,  997,  998,  999, 1000],\n",
       "           dtype='int64', length=1000)"
      ]
     },
     "execution_count": 16,
     "metadata": {},
     "output_type": "execute_result"
    }
   ],
   "source": [
    "df.index[0:1000]"
   ]
  },
  {
   "cell_type": "code",
   "execution_count": 20,
   "metadata": {},
   "outputs": [],
   "source": [
    "df[\"spread\"] = df[\"ask_1\"] - df[\"bid_1\"]\n",
    "df[\"total_qty\"] = df[\"ask_qty1\"] + df[\"bid_qty1\"]\n",
    "df[\"flow_imbalance\"] = df[\"bid_qty1\"] - df[\"ask_qty1\"]\n",
    "df[\"weighted_qty\"] = df[\"total_qty\"]*(np.log(df[\"spread\"]+1))\n",
    "df[\"mid_1\"] = df[\"bid_1\"]+ (df[\"ask_1\"] - df[\"bid_1\"])/2\n",
    "df[\"mid_pct\"] = df[\"mid_1\"].pct_change(1)"
   ]
  },
  {
   "cell_type": "code",
   "execution_count": 66,
   "metadata": {
    "scrolled": true
   },
   "outputs": [
    {
     "name": "stderr",
     "output_type": "stream",
     "text": [
      "100%|███████████████████████████████████████████████████████████████████████████| 56816/56816 [01:08<00:00, 826.05it/s]\n"
     ]
    }
   ],
   "source": [
    "df[\"coef\"] = df[\"theo_option_pct\"]*0\n",
    "for i in trange(200,len(df[\"theo_option_pct\"])):\n",
    "    res = OLS(df.index[0:200],df[\"theo_option_pct\"].iloc[i-200:i])\n",
    "    results = res.fit()\n",
    "    df[\"coef\"].iloc[i] = results.params[0]/1000000"
   ]
  },
  {
   "cell_type": "code",
   "execution_count": 289,
   "metadata": {},
   "outputs": [
    {
     "name": "stderr",
     "output_type": "stream",
     "text": [
      "C:\\Users\\user\\Anaconda3\\lib\\site-packages\\seaborn\\distributions.py:2557: FutureWarning: `distplot` is a deprecated function and will be removed in a future version. Please adapt your code to use either `displot` (a figure-level function with similar flexibility) or `histplot` (an axes-level function for histograms).\n",
      "  warnings.warn(msg, FutureWarning)\n"
     ]
    },
    {
     "data": {
      "image/png": "[encoded data removed]",
      "text/plain": [
       "<Figure size 432x288 with 1 Axes>"
      ]
     },
     "metadata": {
      "needs_background": "light"
     },
     "output_type": "display_data"
    }
   ],
   "source": [
    "sns.distplot(np.sign(df[\"coef\"])*np.abs((df[\"coef\"]))**(1/1.4))\n",
    "stats.kurtosis(np.sign(df[\"coef\"])*np.abs((df[\"coef\"]))**(1/1.4))\n",
    "df[\"coef\"] = np.sign(df[\"coef\"])*np.abs((df[\"coef\"]))**(1/1.4)"
   ]
  },
  {
   "cell_type": "code",
   "execution_count": 317,
   "metadata": {
    "scrolled": true
   },
   "outputs": [
    {
     "name": "stderr",
     "output_type": "stream",
     "text": [
      "100%|█████████████████████████████████████████████████████████████████████████| 57016/57016 [00:04<00:00, 13116.67it/s]\n"
     ]
    }
   ],
   "source": [
    "df[\"action\"] = df[\"coef\"]*0\n",
    "for i in trange(0, len(df[\"coef\"])):\n",
    "    if df[\"coef\"].iloc[i]>10  and df[\"coef\"].iloc[i]<20 and df[\"action\"].iloc[0:i].sum() == 0:\n",
    "        df[\"action\"].iloc[i] = 1\n",
    "    elif df[\"coef\"].iloc[i]>12 and df[\"action\"].iloc[0:i].sum() == -1:\n",
    "        df[\"action\"].iloc[i] = 1\n",
    "    elif df[\"coef\"].iloc[i]>13 and df[\"action\"].iloc[0:i].sum() == -1:\n",
    "        df[\"action\"].iloc[i] = 2\n",
    "    elif df[\"coef\"].iloc[i]<-13 and df[\"action\"].iloc[0:i].sum() == 0:\n",
    "        df[\"action\"].iloc[i] = -1\n",
    "    elif df[\"coef\"].iloc[i]<-15 and df[\"action\"].iloc[0:i].sum() == 1:\n",
    "        df[\"action\"].iloc[i] = -2        \n",
    "    elif df[\"coef\"].iloc[i]<-10 and df[\"action\"].iloc[0:i].sum() == 1:\n",
    "        df[\"action\"].iloc[i] = -1\n"
   ]
  },
  {
   "cell_type": "code",
   "execution_count": 318,
   "metadata": {},
   "outputs": [
    {
     "data": {
      "text/plain": [
       "17"
      ]
     },
     "execution_count": 318,
     "metadata": {},
     "output_type": "execute_result"
    }
   ],
   "source": [
    "len(df[df[\"action\"]<0])"
   ]
  },
  {
   "cell_type": "code",
   "execution_count": 319,
   "metadata": {},
   "outputs": [
    {
     "name": "stderr",
     "output_type": "stream",
     "text": [
      "100%|████████████████████████████████████████████████████████████████████████| 57016/57016 [00:00<00:00, 106252.85it/s]\n"
     ]
    },
    {
     "data": {
      "text/plain": [
       "[<matplotlib.lines.Line2D at 0x1d2021d2f08>]"
      ]
     },
     "execution_count": 319,
     "metadata": {},
     "output_type": "execute_result"
    },
    {
     "data": {
      "image/png": "[encoded data removed]",
      "text/plain": [
       "<Figure size 432x288 with 1 Axes>"
      ]
     },
     "metadata": {
      "needs_background": "light"
     },
     "output_type": "display_data"
    }
   ],
   "source": [
    "df[\"position\"] = df[\"action\"].cumsum()\n",
    "df[\"return\"] = df[\"position\"]*df[\"mid_pct\"]\n",
    "df[\"fee\"] = df[\"return\"]*0\n",
    "for i in trange(0,len(df[\"action\"])):\n",
    "    if df[\"action\"].iloc[i]<0:\n",
    "        df[\"fee\"].iloc[i] = (np.abs(df[\"action\"].iloc[i]/df[\"action\"].iloc[i] ))*0.0015\n",
    "\n",
    "# for i in range(0,len(df[\"return\"])):\n",
    "#     if df[\"action\"].iloc[i] == -1:\n",
    "#         df[\"return\"].iloc[i] = df[\"return\"].iloc[i]-0.0015\n",
    "df[\"return2\"] = (df[\"return\"]+1).cumprod()\n",
    "plt.plot(df[\"return2\"])\n",
    "plt.plot((df[\"mid_pct\"]+1).cumprod())"
   ]
  },
  {
   "cell_type": "code",
   "execution_count": 239,
   "metadata": {
    "scrolled": true
   },
   "outputs": [
    {
     "data": {
      "text/plain": [
       "Int64Index([ 1995,  1996,  1997,  1998,  1999,  2000,  2001,  2002,  2003,\n",
       "             2004,\n",
       "            ...\n",
       "            55225, 55226, 55227, 55228, 55229, 55230, 55231, 55232, 55794,\n",
       "            55796],\n",
       "           dtype='int64', length=15264)"
      ]
     },
     "execution_count": 239,
     "metadata": {},
     "output_type": "execute_result"
    }
   ],
   "source": [
    "df[\"theo_option\"][df[\"coef\"]<-3].index"
   ]
  },
  {
   "cell_type": "code",
   "execution_count": 33,
   "metadata": {},
   "outputs": [],
   "source": [
    "start = 0\n",
    "end = 57000"
   ]
  },
  {
   "cell_type": "code",
   "execution_count": 314,
   "metadata": {},
   "outputs": [],
   "source": [
    "high_index=df[\"theo_option\"].iloc[start:end][df[\"coef\"]>10][df[\"coef\"]<15].index\n",
    "low_index=df[\"theo_option\"].iloc[start:end][df[\"coef\"]>-15][df[\"coef\"]<-10].index"
   ]
  },
  {
   "cell_type": "code",
   "execution_count": 315,
   "metadata": {
    "scrolled": false
   },
   "outputs": [
    {
     "data": {
      "text/plain": [
       "[<matplotlib.lines.Line2D at 0x1d202047a48>]"
      ]
     },
     "execution_count": 315,
     "metadata": {},
     "output_type": "execute_result"
    },
    {
     "data": {
      "image/png": "[encoded data removed]",
      "text/plain": [
       "<Figure size 1296x864 with 1 Axes>"
      ]
     },
     "metadata": {
      "needs_background": "light"
     },
     "output_type": "display_data"
    }
   ],
   "source": [
    "plt.figure(figsize = (18,12))\n",
    "plt.plot(df[\"theo_option\"].iloc[start:end],c = \"black\")\n",
    "plt.scatter(high_index,df[\"theo_option\"].loc[high_index],c='#02ff0f',label='coef')\n",
    "plt.scatter(low_index,df[\"theo_option\"].loc[low_index],c=\"red\",label='coef2')\n",
    "\n",
    "plt.plot(df[\"ask_1\"].iloc[start:end])\n",
    "plt.plot(df[\"bid_1\"].iloc[start:end])"
   ]
  },
  {
   "cell_type": "code",
   "execution_count": 276,
   "metadata": {},
   "outputs": [],
   "source": [
    "crit = 1"
   ]
  },
  {
   "cell_type": "code",
   "execution_count": 149,
   "metadata": {
    "scrolled": true
   },
   "outputs": [
    {
     "ename": "KeyError",
     "evalue": "'mid_pct5'",
     "output_type": "error",
     "traceback": [
      "\u001b[1;31m---------------------------------------------------------------------------\u001b[0m",
      "\u001b[1;31mKeyError\u001b[0m                                  Traceback (most recent call last)",
      "\u001b[1;32m~\\Anaconda3\\lib\\site-packages\\pandas\\core\\indexes\\base.py\u001b[0m in \u001b[0;36mget_loc\u001b[1;34m(self, key, method, tolerance)\u001b[0m\n\u001b[0;32m   2896\u001b[0m             \u001b[1;32mtry\u001b[0m\u001b[1;33m:\u001b[0m\u001b[1;33m\u001b[0m\u001b[1;33m\u001b[0m\u001b[0m\n\u001b[1;32m-> 2897\u001b[1;33m                 \u001b[1;32mreturn\u001b[0m \u001b[0mself\u001b[0m\u001b[1;33m.\u001b[0m\u001b[0m_engine\u001b[0m\u001b[1;33m.\u001b[0m\u001b[0mget_loc\u001b[0m\u001b[1;33m(\u001b[0m\u001b[0mkey\u001b[0m\u001b[1;33m)\u001b[0m\u001b[1;33m\u001b[0m\u001b[1;33m\u001b[0m\u001b[0m\n\u001b[0m\u001b[0;32m   2898\u001b[0m             \u001b[1;32mexcept\u001b[0m \u001b[0mKeyError\u001b[0m\u001b[1;33m:\u001b[0m\u001b[1;33m\u001b[0m\u001b[1;33m\u001b[0m\u001b[0m\n",
      "\u001b[1;32mpandas\\_libs\\index.pyx\u001b[0m in \u001b[0;36mpandas._libs.index.IndexEngine.get_loc\u001b[1;34m()\u001b[0m\n",
      "\u001b[1;32mpandas\\_libs\\index.pyx\u001b[0m in \u001b[0;36mpandas._libs.index.IndexEngine.get_loc\u001b[1;34m()\u001b[0m\n",
      "\u001b[1;32mpandas\\_libs\\hashtable_class_helper.pxi\u001b[0m in \u001b[0;36mpandas._libs.hashtable.PyObjectHashTable.get_item\u001b[1;34m()\u001b[0m\n",
      "\u001b[1;32mpandas\\_libs\\hashtable_class_helper.pxi\u001b[0m in \u001b[0;36mpandas._libs.hashtable.PyObjectHashTable.get_item\u001b[1;34m()\u001b[0m\n",
      "\u001b[1;31mKeyError\u001b[0m: 'mid_pct5'",
      "\nDuring handling of the above exception, another exception occurred:\n",
      "\u001b[1;31mKeyError\u001b[0m                                  Traceback (most recent call last)",
      "\u001b[1;32m<ipython-input-149-56a3eca8cb9f>\u001b[0m in \u001b[0;36m<module>\u001b[1;34m\u001b[0m\n\u001b[0;32m      1\u001b[0m \u001b[1;32mfor\u001b[0m \u001b[0mi\u001b[0m \u001b[1;32min\u001b[0m \u001b[0mrange\u001b[0m\u001b[1;33m(\u001b[0m\u001b[1;36m0\u001b[0m\u001b[1;33m,\u001b[0m\u001b[1;36m100\u001b[0m\u001b[1;33m)\u001b[0m\u001b[1;33m:\u001b[0m\u001b[1;33m\u001b[0m\u001b[1;33m\u001b[0m\u001b[0m\n\u001b[0;32m      2\u001b[0m     \u001b[0mcrit\u001b[0m \u001b[1;33m=\u001b[0m \u001b[0mi\u001b[0m\u001b[1;33m/\u001b[0m\u001b[1;36m100\u001b[0m\u001b[1;33m\u001b[0m\u001b[1;33m\u001b[0m\u001b[0m\n\u001b[1;32m----> 3\u001b[1;33m     \u001b[0mprint\u001b[0m\u001b[1;33m(\u001b[0m\u001b[0mdf\u001b[0m\u001b[1;33m[\u001b[0m\u001b[1;34m\"coef\"\u001b[0m\u001b[1;33m]\u001b[0m\u001b[1;33m[\u001b[0m\u001b[0mdf\u001b[0m\u001b[1;33m[\u001b[0m\u001b[1;34m\"coef\"\u001b[0m\u001b[1;33m]\u001b[0m\u001b[1;33m>\u001b[0m\u001b[1;33m-\u001b[0m\u001b[0mcrit\u001b[0m\u001b[1;33m]\u001b[0m\u001b[1;33m[\u001b[0m\u001b[0mdf\u001b[0m\u001b[1;33m[\u001b[0m\u001b[1;34m\"coef\"\u001b[0m\u001b[1;33m]\u001b[0m\u001b[1;33m<\u001b[0m\u001b[0mcrit\u001b[0m\u001b[1;33m]\u001b[0m\u001b[1;33m.\u001b[0m\u001b[0mcorr\u001b[0m\u001b[1;33m(\u001b[0m\u001b[0mdf\u001b[0m\u001b[1;33m[\u001b[0m\u001b[1;34m\"mid_pct5\"\u001b[0m\u001b[1;33m]\u001b[0m\u001b[1;33m[\u001b[0m\u001b[0mdf\u001b[0m\u001b[1;33m[\u001b[0m\u001b[1;34m\"coef\"\u001b[0m\u001b[1;33m]\u001b[0m\u001b[1;33m>\u001b[0m\u001b[1;33m-\u001b[0m\u001b[0mcrit\u001b[0m\u001b[1;33m]\u001b[0m\u001b[1;33m[\u001b[0m\u001b[0mdf\u001b[0m\u001b[1;33m[\u001b[0m\u001b[1;34m\"coef\"\u001b[0m\u001b[1;33m]\u001b[0m\u001b[1;33m<\u001b[0m\u001b[0mcrit\u001b[0m\u001b[1;33m]\u001b[0m\u001b[1;33m)\u001b[0m\u001b[1;33m,\u001b[0m\u001b[1;34m\"|\"\u001b[0m\u001b[1;33m,\u001b[0m\u001b[0mi\u001b[0m\u001b[1;33m)\u001b[0m\u001b[1;33m\u001b[0m\u001b[1;33m\u001b[0m\u001b[0m\n\u001b[0m",
      "\u001b[1;32m~\\Anaconda3\\lib\\site-packages\\pandas\\core\\frame.py\u001b[0m in \u001b[0;36m__getitem__\u001b[1;34m(self, key)\u001b[0m\n\u001b[0;32m   2978\u001b[0m             \u001b[1;32mif\u001b[0m \u001b[0mself\u001b[0m\u001b[1;33m.\u001b[0m\u001b[0mcolumns\u001b[0m\u001b[1;33m.\u001b[0m\u001b[0mnlevels\u001b[0m \u001b[1;33m>\u001b[0m \u001b[1;36m1\u001b[0m\u001b[1;33m:\u001b[0m\u001b[1;33m\u001b[0m\u001b[1;33m\u001b[0m\u001b[0m\n\u001b[0;32m   2979\u001b[0m                 \u001b[1;32mreturn\u001b[0m \u001b[0mself\u001b[0m\u001b[1;33m.\u001b[0m\u001b[0m_getitem_multilevel\u001b[0m\u001b[1;33m(\u001b[0m\u001b[0mkey\u001b[0m\u001b[1;33m)\u001b[0m\u001b[1;33m\u001b[0m\u001b[1;33m\u001b[0m\u001b[0m\n\u001b[1;32m-> 2980\u001b[1;33m             \u001b[0mindexer\u001b[0m \u001b[1;33m=\u001b[0m \u001b[0mself\u001b[0m\u001b[1;33m.\u001b[0m\u001b[0mcolumns\u001b[0m\u001b[1;33m.\u001b[0m\u001b[0mget_loc\u001b[0m\u001b[1;33m(\u001b[0m\u001b[0mkey\u001b[0m\u001b[1;33m)\u001b[0m\u001b[1;33m\u001b[0m\u001b[1;33m\u001b[0m\u001b[0m\n\u001b[0m\u001b[0;32m   2981\u001b[0m             \u001b[1;32mif\u001b[0m \u001b[0mis_integer\u001b[0m\u001b[1;33m(\u001b[0m\u001b[0mindexer\u001b[0m\u001b[1;33m)\u001b[0m\u001b[1;33m:\u001b[0m\u001b[1;33m\u001b[0m\u001b[1;33m\u001b[0m\u001b[0m\n\u001b[0;32m   2982\u001b[0m                 \u001b[0mindexer\u001b[0m \u001b[1;33m=\u001b[0m \u001b[1;33m[\u001b[0m\u001b[0mindexer\u001b[0m\u001b[1;33m]\u001b[0m\u001b[1;33m\u001b[0m\u001b[1;33m\u001b[0m\u001b[0m\n",
      "\u001b[1;32m~\\Anaconda3\\lib\\site-packages\\pandas\\core\\indexes\\base.py\u001b[0m in \u001b[0;36mget_loc\u001b[1;34m(self, key, method, tolerance)\u001b[0m\n\u001b[0;32m   2897\u001b[0m                 \u001b[1;32mreturn\u001b[0m \u001b[0mself\u001b[0m\u001b[1;33m.\u001b[0m\u001b[0m_engine\u001b[0m\u001b[1;33m.\u001b[0m\u001b[0mget_loc\u001b[0m\u001b[1;33m(\u001b[0m\u001b[0mkey\u001b[0m\u001b[1;33m)\u001b[0m\u001b[1;33m\u001b[0m\u001b[1;33m\u001b[0m\u001b[0m\n\u001b[0;32m   2898\u001b[0m             \u001b[1;32mexcept\u001b[0m \u001b[0mKeyError\u001b[0m\u001b[1;33m:\u001b[0m\u001b[1;33m\u001b[0m\u001b[1;33m\u001b[0m\u001b[0m\n\u001b[1;32m-> 2899\u001b[1;33m                 \u001b[1;32mreturn\u001b[0m \u001b[0mself\u001b[0m\u001b[1;33m.\u001b[0m\u001b[0m_engine\u001b[0m\u001b[1;33m.\u001b[0m\u001b[0mget_loc\u001b[0m\u001b[1;33m(\u001b[0m\u001b[0mself\u001b[0m\u001b[1;33m.\u001b[0m\u001b[0m_maybe_cast_indexer\u001b[0m\u001b[1;33m(\u001b[0m\u001b[0mkey\u001b[0m\u001b[1;33m)\u001b[0m\u001b[1;33m)\u001b[0m\u001b[1;33m\u001b[0m\u001b[1;33m\u001b[0m\u001b[0m\n\u001b[0m\u001b[0;32m   2900\u001b[0m         \u001b[0mindexer\u001b[0m \u001b[1;33m=\u001b[0m \u001b[0mself\u001b[0m\u001b[1;33m.\u001b[0m\u001b[0mget_indexer\u001b[0m\u001b[1;33m(\u001b[0m\u001b[1;33m[\u001b[0m\u001b[0mkey\u001b[0m\u001b[1;33m]\u001b[0m\u001b[1;33m,\u001b[0m \u001b[0mmethod\u001b[0m\u001b[1;33m=\u001b[0m\u001b[0mmethod\u001b[0m\u001b[1;33m,\u001b[0m \u001b[0mtolerance\u001b[0m\u001b[1;33m=\u001b[0m\u001b[0mtolerance\u001b[0m\u001b[1;33m)\u001b[0m\u001b[1;33m\u001b[0m\u001b[1;33m\u001b[0m\u001b[0m\n\u001b[0;32m   2901\u001b[0m         \u001b[1;32mif\u001b[0m \u001b[0mindexer\u001b[0m\u001b[1;33m.\u001b[0m\u001b[0mndim\u001b[0m \u001b[1;33m>\u001b[0m \u001b[1;36m1\u001b[0m \u001b[1;32mor\u001b[0m \u001b[0mindexer\u001b[0m\u001b[1;33m.\u001b[0m\u001b[0msize\u001b[0m \u001b[1;33m>\u001b[0m \u001b[1;36m1\u001b[0m\u001b[1;33m:\u001b[0m\u001b[1;33m\u001b[0m\u001b[1;33m\u001b[0m\u001b[0m\n",
      "\u001b[1;32mpandas\\_libs\\index.pyx\u001b[0m in \u001b[0;36mpandas._libs.index.IndexEngine.get_loc\u001b[1;34m()\u001b[0m\n",
      "\u001b[1;32mpandas\\_libs\\index.pyx\u001b[0m in \u001b[0;36mpandas._libs.index.IndexEngine.get_loc\u001b[1;34m()\u001b[0m\n",
      "\u001b[1;32mpandas\\_libs\\hashtable_class_helper.pxi\u001b[0m in \u001b[0;36mpandas._libs.hashtable.PyObjectHashTable.get_item\u001b[1;34m()\u001b[0m\n",
      "\u001b[1;32mpandas\\_libs\\hashtable_class_helper.pxi\u001b[0m in \u001b[0;36mpandas._libs.hashtable.PyObjectHashTable.get_item\u001b[1;34m()\u001b[0m\n",
      "\u001b[1;31mKeyError\u001b[0m: 'mid_pct5'"
     ]
    }
   ],
   "source": [
    "for i in range(0,100):\n",
    "    crit = i/100\n",
    "    print(df[\"coef\"][df[\"coef\"]>-crit][df[\"coef\"]<crit].corr(df[\"mid_pct5\"][df[\"coef\"]>-crit][df[\"coef\"]<crit]),\"|\",i)"
   ]
  },
  {
   "cell_type": "code",
   "execution_count": null,
   "metadata": {},
   "outputs": [],
   "source": [
    "df[\"buy_point\"] = df[\"action\"]"
   ]
  }
 ],
 "metadata": {
  "kernelspec": {
   "display_name": "Python 3",
   "language": "python",
   "name": "python3"
  },
  "language_info": {
   "codemirror_mode": {
    "name": "ipython",
    "version": 3
   },
   "file_extension": ".py",
   "mimetype": "text/x-python",
   "name": "python",
   "nbconvert_exporter": "python",
   "pygments_lexer": "ipython3",
   "version": "3.7.4"
  }
 },
 "nbformat": 4,
 "nbformat_minor": 2
}
