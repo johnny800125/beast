{
 "cells": [
  {
   "cell_type": "code",
   "execution_count": 209,
   "metadata": {},
   "outputs": [],
   "source": [
    "import numpy as np\n",
    "import pandas as pd \n",
    "import matplotlib.pyplot as plt\n",
    "from statsmodels.regression.linear_model import OLS\n",
    "\n",
    "from tqdm import trange\n",
    "import seaborn as sns\n",
    "from scipy import stats\n",
    "import statsmodels.api as sm\n"
   ]
  },
  {
   "cell_type": "code",
   "execution_count": 210,
   "metadata": {},
   "outputs": [],
   "source": [
    "\n",
    "df = pd.read_csv(\"C:/Users/user/Desktop/2603.csv\")"
   ]
  },
  {
   "cell_type": "code",
   "execution_count": 211,
   "metadata": {},
   "outputs": [],
   "source": [
    "df[\"spread\"] = df[\"ask_1\"] - df[\"bid_1\"]\n",
    "df[\"total_qty\"] = df[\"ask_qty1\"] + df[\"bid_qty1\"]\n",
    "df[\"flow_imbalance\"] = df[\"bid_qty1\"] - df[\"ask_qty1\"]\n",
    "df[\"weighted_qty\"] = df[\"total_qty\"]*(np.log(df[\"spread\"]+1))\n",
    "df[\"mid_1\"] = df[\"bid_1\"]+ (df[\"ask_1\"] - df[\"bid_1\"])/2\n",
    "df[\"mid_pct\"] = df[\"mid_1\"].pct_change(1)\n",
    "df[\"theo\"] = ((((df[\"bid_qty1\"]/df[\"total_qty\"])*df[\"bid_1\"]+(df[\"ask_qty1\"]/df[\"total_qty\"])*df[\"ask_1\"])-df[\"bid_1\"])/df[\"spread\"])+df[\"bid_1\"]\n",
    "df[\"theo_pct\"] = df[\"theo\"].pct_change(1)\n",
    "df[\"p_bid\"] = df[\"bid_qty1\"]/df[\"total_qty\"]\n",
    "df[\"p_ask\"] = df[\"ask_qty1\"]/df[\"total_qty\"]\n"
   ]
  },
  {
   "cell_type": "code",
   "execution_count": 27,
   "metadata": {},
   "outputs": [],
   "source": [
    "df[\"entro\"] = -df[\"p_bid\"]*np.log(df[\"p_bid\"])-df[\"p_ask\"]*np.log(df[\"p_ask\"])\n",
    "df = df.dropna()"
   ]
  },
  {
   "cell_type": "code",
   "execution_count": 6,
   "metadata": {
    "scrolled": true
   },
   "outputs": [
    {
     "ename": "ValueError",
     "evalue": "cannot insert level_0, already exists",
     "output_type": "error",
     "traceback": [
      "\u001b[1;31m---------------------------------------------------------------------------\u001b[0m",
      "\u001b[1;31mValueError\u001b[0m                                Traceback (most recent call last)",
      "\u001b[1;32m<ipython-input-6-d02f1adb44bc>\u001b[0m in \u001b[0;36m<module>\u001b[1;34m\u001b[0m\n\u001b[1;32m----> 1\u001b[1;33m \u001b[0mdf\u001b[0m \u001b[1;33m=\u001b[0m \u001b[0mdf\u001b[0m\u001b[1;33m.\u001b[0m\u001b[0mreset_index\u001b[0m\u001b[1;33m(\u001b[0m\u001b[1;33m)\u001b[0m\u001b[1;33m\u001b[0m\u001b[1;33m\u001b[0m\u001b[0m\n\u001b[0m",
      "\u001b[1;32m~\\Anaconda3\\lib\\site-packages\\pandas\\core\\frame.py\u001b[0m in \u001b[0;36mreset_index\u001b[1;34m(self, level, drop, inplace, col_level, col_fill)\u001b[0m\n\u001b[0;32m   4692\u001b[0m                 \u001b[1;31m# to ndarray and maybe infer different dtype\u001b[0m\u001b[1;33m\u001b[0m\u001b[1;33m\u001b[0m\u001b[1;33m\u001b[0m\u001b[0m\n\u001b[0;32m   4693\u001b[0m                 \u001b[0mlevel_values\u001b[0m \u001b[1;33m=\u001b[0m \u001b[0m_maybe_casted_values\u001b[0m\u001b[1;33m(\u001b[0m\u001b[0mlev\u001b[0m\u001b[1;33m,\u001b[0m \u001b[0mlab\u001b[0m\u001b[1;33m)\u001b[0m\u001b[1;33m\u001b[0m\u001b[1;33m\u001b[0m\u001b[0m\n\u001b[1;32m-> 4694\u001b[1;33m                 \u001b[0mnew_obj\u001b[0m\u001b[1;33m.\u001b[0m\u001b[0minsert\u001b[0m\u001b[1;33m(\u001b[0m\u001b[1;36m0\u001b[0m\u001b[1;33m,\u001b[0m \u001b[0mname\u001b[0m\u001b[1;33m,\u001b[0m \u001b[0mlevel_values\u001b[0m\u001b[1;33m)\u001b[0m\u001b[1;33m\u001b[0m\u001b[1;33m\u001b[0m\u001b[0m\n\u001b[0m\u001b[0;32m   4695\u001b[0m \u001b[1;33m\u001b[0m\u001b[0m\n\u001b[0;32m   4696\u001b[0m         \u001b[0mnew_obj\u001b[0m\u001b[1;33m.\u001b[0m\u001b[0mindex\u001b[0m \u001b[1;33m=\u001b[0m \u001b[0mnew_index\u001b[0m\u001b[1;33m\u001b[0m\u001b[1;33m\u001b[0m\u001b[0m\n",
      "\u001b[1;32m~\\Anaconda3\\lib\\site-packages\\pandas\\core\\frame.py\u001b[0m in \u001b[0;36minsert\u001b[1;34m(self, loc, column, value, allow_duplicates)\u001b[0m\n\u001b[0;32m   3574\u001b[0m         \u001b[0mself\u001b[0m\u001b[1;33m.\u001b[0m\u001b[0m_ensure_valid_index\u001b[0m\u001b[1;33m(\u001b[0m\u001b[0mvalue\u001b[0m\u001b[1;33m)\u001b[0m\u001b[1;33m\u001b[0m\u001b[1;33m\u001b[0m\u001b[0m\n\u001b[0;32m   3575\u001b[0m         \u001b[0mvalue\u001b[0m \u001b[1;33m=\u001b[0m \u001b[0mself\u001b[0m\u001b[1;33m.\u001b[0m\u001b[0m_sanitize_column\u001b[0m\u001b[1;33m(\u001b[0m\u001b[0mcolumn\u001b[0m\u001b[1;33m,\u001b[0m \u001b[0mvalue\u001b[0m\u001b[1;33m,\u001b[0m \u001b[0mbroadcast\u001b[0m\u001b[1;33m=\u001b[0m\u001b[1;32mFalse\u001b[0m\u001b[1;33m)\u001b[0m\u001b[1;33m\u001b[0m\u001b[1;33m\u001b[0m\u001b[0m\n\u001b[1;32m-> 3576\u001b[1;33m         \u001b[0mself\u001b[0m\u001b[1;33m.\u001b[0m\u001b[0m_data\u001b[0m\u001b[1;33m.\u001b[0m\u001b[0minsert\u001b[0m\u001b[1;33m(\u001b[0m\u001b[0mloc\u001b[0m\u001b[1;33m,\u001b[0m \u001b[0mcolumn\u001b[0m\u001b[1;33m,\u001b[0m \u001b[0mvalue\u001b[0m\u001b[1;33m,\u001b[0m \u001b[0mallow_duplicates\u001b[0m\u001b[1;33m=\u001b[0m\u001b[0mallow_duplicates\u001b[0m\u001b[1;33m)\u001b[0m\u001b[1;33m\u001b[0m\u001b[1;33m\u001b[0m\u001b[0m\n\u001b[0m\u001b[0;32m   3577\u001b[0m \u001b[1;33m\u001b[0m\u001b[0m\n\u001b[0;32m   3578\u001b[0m     \u001b[1;32mdef\u001b[0m \u001b[0massign\u001b[0m\u001b[1;33m(\u001b[0m\u001b[0mself\u001b[0m\u001b[1;33m,\u001b[0m \u001b[1;33m**\u001b[0m\u001b[0mkwargs\u001b[0m\u001b[1;33m)\u001b[0m\u001b[1;33m:\u001b[0m\u001b[1;33m\u001b[0m\u001b[1;33m\u001b[0m\u001b[0m\n",
      "\u001b[1;32m~\\Anaconda3\\lib\\site-packages\\pandas\\core\\internals\\managers.py\u001b[0m in \u001b[0;36minsert\u001b[1;34m(self, loc, item, value, allow_duplicates)\u001b[0m\n\u001b[0;32m   1171\u001b[0m         \u001b[1;32mif\u001b[0m \u001b[1;32mnot\u001b[0m \u001b[0mallow_duplicates\u001b[0m \u001b[1;32mand\u001b[0m \u001b[0mitem\u001b[0m \u001b[1;32min\u001b[0m \u001b[0mself\u001b[0m\u001b[1;33m.\u001b[0m\u001b[0mitems\u001b[0m\u001b[1;33m:\u001b[0m\u001b[1;33m\u001b[0m\u001b[1;33m\u001b[0m\u001b[0m\n\u001b[0;32m   1172\u001b[0m             \u001b[1;31m# Should this be a different kind of error??\u001b[0m\u001b[1;33m\u001b[0m\u001b[1;33m\u001b[0m\u001b[1;33m\u001b[0m\u001b[0m\n\u001b[1;32m-> 1173\u001b[1;33m             \u001b[1;32mraise\u001b[0m \u001b[0mValueError\u001b[0m\u001b[1;33m(\u001b[0m\u001b[1;34m\"cannot insert {}, already exists\"\u001b[0m\u001b[1;33m.\u001b[0m\u001b[0mformat\u001b[0m\u001b[1;33m(\u001b[0m\u001b[0mitem\u001b[0m\u001b[1;33m)\u001b[0m\u001b[1;33m)\u001b[0m\u001b[1;33m\u001b[0m\u001b[1;33m\u001b[0m\u001b[0m\n\u001b[0m\u001b[0;32m   1174\u001b[0m \u001b[1;33m\u001b[0m\u001b[0m\n\u001b[0;32m   1175\u001b[0m         \u001b[1;32mif\u001b[0m \u001b[1;32mnot\u001b[0m \u001b[0misinstance\u001b[0m\u001b[1;33m(\u001b[0m\u001b[0mloc\u001b[0m\u001b[1;33m,\u001b[0m \u001b[0mint\u001b[0m\u001b[1;33m)\u001b[0m\u001b[1;33m:\u001b[0m\u001b[1;33m\u001b[0m\u001b[1;33m\u001b[0m\u001b[0m\n",
      "\u001b[1;31mValueError\u001b[0m: cannot insert level_0, already exists"
     ]
    }
   ],
   "source": [
    "df = df.reset_index()"
   ]
  },
  {
   "cell_type": "code",
   "execution_count": 28,
   "metadata": {},
   "outputs": [
    {
     "data": {
      "text/plain": [
       "0.002962085308056972"
      ]
     },
     "execution_count": 28,
     "metadata": {},
     "output_type": "execute_result"
    }
   ],
   "source": [
    "df[\"mid_pct\"].max()"
   ]
  },
  {
   "cell_type": "code",
   "execution_count": 63,
   "metadata": {
    "scrolled": true
   },
   "outputs": [
    {
     "name": "stderr",
     "output_type": "stream",
     "text": [
      "100%|██████████████████████████████████████████████████████████████████████████| 81391/81391 [00:15<00:00, 5152.21it/s]\n"
     ]
    }
   ],
   "source": [
    "df[\"flow_imbalance\"] = (df[\"bid_qty1\"] - df[\"ask_qty1\"])\n",
    "for i in trange(0,len(df[\"flow_imbalance\"])):\n",
    "    if df[\"flow_imbalance\"].iloc[i] <0:\n",
    "            df[\"flow_imbalance\"].iloc[i] = (df[\"flow_imbalance\"].iloc[i]/df[\"total_qty\"].iloc[i])\n",
    "    else:\n",
    "            df[\"flow_imbalance\"].iloc[i] = (df[\"flow_imbalance\"].iloc[i]/df[\"total_qty\"].iloc[i])"
   ]
  },
  {
   "cell_type": "code",
   "execution_count": 21,
   "metadata": {},
   "outputs": [
    {
     "data": {
      "text/plain": [
       "1         197\n",
       "2         197\n",
       "3         198\n",
       "4         198\n",
       "5         198\n",
       "         ... \n",
       "81388     335\n",
       "81389     363\n",
       "81390    1831\n",
       "81391    2496\n",
       "81392    2500\n",
       "Name: bid_qty1, Length: 81392, dtype: int64"
      ]
     },
     "execution_count": 21,
     "metadata": {},
     "output_type": "execute_result"
    }
   ],
   "source": [
    "df[\"bid_qty1\"]"
   ]
  },
  {
   "cell_type": "code",
   "execution_count": 17,
   "metadata": {},
   "outputs": [
    {
     "data": {
      "text/plain": [
       "1        -3.198294\n",
       "2        -3.198294\n",
       "3        -3.148936\n",
       "4        -3.148936\n",
       "5        -3.148936\n",
       "           ...    \n",
       "81388    11.678487\n",
       "81389    -4.890739\n",
       "81390    16.239485\n",
       "81391    17.156680\n",
       "81392    17.188546\n",
       "Name: flow_imbalance, Length: 81392, dtype: float64"
      ]
     },
     "execution_count": 17,
     "metadata": {},
     "output_type": "execute_result"
    }
   ],
   "source": [
    "df[\"flow_imbalance\"]"
   ]
  },
  {
   "cell_type": "code",
   "execution_count": 66,
   "metadata": {},
   "outputs": [],
   "source": [
    "df[\"flow_imbalance2\"] = np.sign(df[\"flow_imbalance\"])*np.abs(df[\"flow_imbalance\"])**(12)"
   ]
  },
  {
   "cell_type": "code",
   "execution_count": 32,
   "metadata": {
    "scrolled": false
   },
   "outputs": [
    {
     "name": "stderr",
     "output_type": "stream",
     "text": [
      "C:\\Users\\user\\Anaconda3\\lib\\site-packages\\seaborn\\distributions.py:2557: FutureWarning: `distplot` is a deprecated function and will be removed in a future version. Please adapt your code to use either `displot` (a figure-level function with similar flexibility) or `histplot` (an axes-level function for histograms).\n",
      "  warnings.warn(msg, FutureWarning)\n"
     ]
    },
    {
     "data": {
      "text/plain": [
       "<matplotlib.axes._subplots.AxesSubplot at 0x20b9bfccb48>"
      ]
     },
     "execution_count": 32,
     "metadata": {},
     "output_type": "execute_result"
    },
    {
     "data": {
      "image/png": "[encoded data removed]",
      "text/plain": [
       "<Figure size 432x288 with 1 Axes>"
      ]
     },
     "metadata": {
      "needs_background": "light"
     },
     "output_type": "display_data"
    }
   ],
   "source": [
    "sns.distplot(df[\"entro\"])"
   ]
  },
  {
   "cell_type": "code",
   "execution_count": 68,
   "metadata": {
    "scrolled": true
   },
   "outputs": [
    {
     "name": "stderr",
     "output_type": "stream",
     "text": [
      "C:\\Users\\user\\Anaconda3\\lib\\site-packages\\seaborn\\distributions.py:2557: FutureWarning: `distplot` is a deprecated function and will be removed in a future version. Please adapt your code to use either `displot` (a figure-level function with similar flexibility) or `histplot` (an axes-level function for histograms).\n",
      "  warnings.warn(msg, FutureWarning)\n"
     ]
    },
    {
     "data": {
      "text/plain": [
       "<matplotlib.axes._subplots.AxesSubplot at 0x20ba424c688>"
      ]
     },
     "execution_count": 68,
     "metadata": {},
     "output_type": "execute_result"
    },
    {
     "data": {
      "image/png": "[encoded data removed]",
      "text/plain": [
       "<Figure size 432x288 with 1 Axes>"
      ]
     },
     "metadata": {
      "needs_background": "light"
     },
     "output_type": "display_data"
    }
   ],
   "source": [
    "sns.distplot(df[\"flow_imbalance\"])"
   ]
  },
  {
   "cell_type": "code",
   "execution_count": 71,
   "metadata": {
    "scrolled": false
   },
   "outputs": [
    {
     "data": {
      "text/html": [
       "<div>\n",
       "<style scoped>\n",
       "    .dataframe tbody tr th:only-of-type {\n",
       "        vertical-align: middle;\n",
       "    }\n",
       "\n",
       "    .dataframe tbody tr th {\n",
       "        vertical-align: top;\n",
       "    }\n",
       "\n",
       "    .dataframe thead th {\n",
       "        text-align: right;\n",
       "    }\n",
       "</style>\n",
       "<table border=\"1\" class=\"dataframe\">\n",
       "  <thead>\n",
       "    <tr style=\"text-align: right;\">\n",
       "      <th></th>\n",
       "      <th>Unnamed: 0</th>\n",
       "      <th>zdate</th>\n",
       "      <th>id</th>\n",
       "      <th>stk_time</th>\n",
       "      <th>deal_or_not</th>\n",
       "      <th>accumulated_qty</th>\n",
       "      <th>deal_price</th>\n",
       "      <th>deal_qty</th>\n",
       "      <th>bid_1</th>\n",
       "      <th>bid_qty1</th>\n",
       "      <th>...</th>\n",
       "      <th>flow_imbalance</th>\n",
       "      <th>weighted_qty</th>\n",
       "      <th>mid_1</th>\n",
       "      <th>mid_pct</th>\n",
       "      <th>theo</th>\n",
       "      <th>theo_pct</th>\n",
       "      <th>action</th>\n",
       "      <th>position</th>\n",
       "      <th>return</th>\n",
       "      <th>return2</th>\n",
       "    </tr>\n",
       "  </thead>\n",
       "  <tbody>\n",
       "    <tr>\n",
       "      <td>2</td>\n",
       "      <td>360</td>\n",
       "      <td>2021/3/26</td>\n",
       "      <td>2330</td>\n",
       "      <td>44281.37501</td>\n",
       "      <td>0</td>\n",
       "      <td>2060</td>\n",
       "      <td>0</td>\n",
       "      <td>0</td>\n",
       "      <td>581</td>\n",
       "      <td>170</td>\n",
       "      <td>...</td>\n",
       "      <td>116</td>\n",
       "      <td>155.264968</td>\n",
       "      <td>581.5</td>\n",
       "      <td>0.0</td>\n",
       "      <td>581.241071</td>\n",
       "      <td>-0.000002</td>\n",
       "      <td>0</td>\n",
       "      <td>0</td>\n",
       "      <td>0.0</td>\n",
       "      <td>1.0</td>\n",
       "    </tr>\n",
       "    <tr>\n",
       "      <td>3</td>\n",
       "      <td>361</td>\n",
       "      <td>2021/3/26</td>\n",
       "      <td>2330</td>\n",
       "      <td>44281.37501</td>\n",
       "      <td>0</td>\n",
       "      <td>2060</td>\n",
       "      <td>0</td>\n",
       "      <td>0</td>\n",
       "      <td>581</td>\n",
       "      <td>170</td>\n",
       "      <td>...</td>\n",
       "      <td>116</td>\n",
       "      <td>155.264968</td>\n",
       "      <td>581.5</td>\n",
       "      <td>0.0</td>\n",
       "      <td>581.241071</td>\n",
       "      <td>0.000000</td>\n",
       "      <td>0</td>\n",
       "      <td>0</td>\n",
       "      <td>0.0</td>\n",
       "      <td>1.0</td>\n",
       "    </tr>\n",
       "    <tr>\n",
       "      <td>4</td>\n",
       "      <td>362</td>\n",
       "      <td>2021/3/26</td>\n",
       "      <td>2330</td>\n",
       "      <td>44281.37501</td>\n",
       "      <td>0</td>\n",
       "      <td>2060</td>\n",
       "      <td>0</td>\n",
       "      <td>0</td>\n",
       "      <td>581</td>\n",
       "      <td>195</td>\n",
       "      <td>...</td>\n",
       "      <td>141</td>\n",
       "      <td>172.593648</td>\n",
       "      <td>581.5</td>\n",
       "      <td>0.0</td>\n",
       "      <td>581.216867</td>\n",
       "      <td>-0.000042</td>\n",
       "      <td>0</td>\n",
       "      <td>0</td>\n",
       "      <td>0.0</td>\n",
       "      <td>1.0</td>\n",
       "    </tr>\n",
       "    <tr>\n",
       "      <td>5</td>\n",
       "      <td>363</td>\n",
       "      <td>2021/3/26</td>\n",
       "      <td>2330</td>\n",
       "      <td>44281.37501</td>\n",
       "      <td>0</td>\n",
       "      <td>2060</td>\n",
       "      <td>0</td>\n",
       "      <td>0</td>\n",
       "      <td>581</td>\n",
       "      <td>214</td>\n",
       "      <td>...</td>\n",
       "      <td>160</td>\n",
       "      <td>185.763444</td>\n",
       "      <td>581.5</td>\n",
       "      <td>0.0</td>\n",
       "      <td>581.201493</td>\n",
       "      <td>-0.000026</td>\n",
       "      <td>0</td>\n",
       "      <td>0</td>\n",
       "      <td>0.0</td>\n",
       "      <td>1.0</td>\n",
       "    </tr>\n",
       "    <tr>\n",
       "      <td>6</td>\n",
       "      <td>364</td>\n",
       "      <td>2021/3/26</td>\n",
       "      <td>2330</td>\n",
       "      <td>44281.37501</td>\n",
       "      <td>0</td>\n",
       "      <td>2060</td>\n",
       "      <td>0</td>\n",
       "      <td>0</td>\n",
       "      <td>581</td>\n",
       "      <td>214</td>\n",
       "      <td>...</td>\n",
       "      <td>160</td>\n",
       "      <td>185.763444</td>\n",
       "      <td>581.5</td>\n",
       "      <td>0.0</td>\n",
       "      <td>581.201493</td>\n",
       "      <td>0.000000</td>\n",
       "      <td>0</td>\n",
       "      <td>0</td>\n",
       "      <td>0.0</td>\n",
       "      <td>1.0</td>\n",
       "    </tr>\n",
       "    <tr>\n",
       "      <td>...</td>\n",
       "      <td>...</td>\n",
       "      <td>...</td>\n",
       "      <td>...</td>\n",
       "      <td>...</td>\n",
       "      <td>...</td>\n",
       "      <td>...</td>\n",
       "      <td>...</td>\n",
       "      <td>...</td>\n",
       "      <td>...</td>\n",
       "      <td>...</td>\n",
       "      <td>...</td>\n",
       "      <td>...</td>\n",
       "      <td>...</td>\n",
       "      <td>...</td>\n",
       "      <td>...</td>\n",
       "      <td>...</td>\n",
       "      <td>...</td>\n",
       "      <td>...</td>\n",
       "      <td>...</td>\n",
       "      <td>...</td>\n",
       "      <td>...</td>\n",
       "    </tr>\n",
       "    <tr>\n",
       "      <td>57030</td>\n",
       "      <td>57388</td>\n",
       "      <td>2021/3/26</td>\n",
       "      <td>2330</td>\n",
       "      <td>44281.56230</td>\n",
       "      <td>1</td>\n",
       "      <td>32723</td>\n",
       "      <td>590</td>\n",
       "      <td>3942</td>\n",
       "      <td>590</td>\n",
       "      <td>381</td>\n",
       "      <td>...</td>\n",
       "      <td>58</td>\n",
       "      <td>487.975615</td>\n",
       "      <td>590.5</td>\n",
       "      <td>0.0</td>\n",
       "      <td>590.458807</td>\n",
       "      <td>-0.000032</td>\n",
       "      <td>0</td>\n",
       "      <td>0</td>\n",
       "      <td>0.0</td>\n",
       "      <td>1.0</td>\n",
       "    </tr>\n",
       "    <tr>\n",
       "      <td>57031</td>\n",
       "      <td>57389</td>\n",
       "      <td>2021/3/26</td>\n",
       "      <td>2330</td>\n",
       "      <td>44281.56236</td>\n",
       "      <td>1</td>\n",
       "      <td>32723</td>\n",
       "      <td>590</td>\n",
       "      <td>3950</td>\n",
       "      <td>590</td>\n",
       "      <td>322</td>\n",
       "      <td>...</td>\n",
       "      <td>-1</td>\n",
       "      <td>447.079931</td>\n",
       "      <td>590.5</td>\n",
       "      <td>0.0</td>\n",
       "      <td>590.500775</td>\n",
       "      <td>0.000071</td>\n",
       "      <td>0</td>\n",
       "      <td>0</td>\n",
       "      <td>0.0</td>\n",
       "      <td>1.0</td>\n",
       "    </tr>\n",
       "    <tr>\n",
       "      <td>57032</td>\n",
       "      <td>57390</td>\n",
       "      <td>2021/3/26</td>\n",
       "      <td>2330</td>\n",
       "      <td>44281.56241</td>\n",
       "      <td>1</td>\n",
       "      <td>32723</td>\n",
       "      <td>590</td>\n",
       "      <td>3949</td>\n",
       "      <td>590</td>\n",
       "      <td>367</td>\n",
       "      <td>...</td>\n",
       "      <td>42</td>\n",
       "      <td>479.657849</td>\n",
       "      <td>590.5</td>\n",
       "      <td>0.0</td>\n",
       "      <td>590.469653</td>\n",
       "      <td>-0.000053</td>\n",
       "      <td>0</td>\n",
       "      <td>0</td>\n",
       "      <td>0.0</td>\n",
       "      <td>1.0</td>\n",
       "    </tr>\n",
       "    <tr>\n",
       "      <td>57033</td>\n",
       "      <td>57391</td>\n",
       "      <td>2021/3/26</td>\n",
       "      <td>2330</td>\n",
       "      <td>44281.56247</td>\n",
       "      <td>1</td>\n",
       "      <td>32723</td>\n",
       "      <td>590</td>\n",
       "      <td>3949</td>\n",
       "      <td>590</td>\n",
       "      <td>383</td>\n",
       "      <td>...</td>\n",
       "      <td>59</td>\n",
       "      <td>490.055057</td>\n",
       "      <td>590.5</td>\n",
       "      <td>0.0</td>\n",
       "      <td>590.458274</td>\n",
       "      <td>-0.000019</td>\n",
       "      <td>0</td>\n",
       "      <td>0</td>\n",
       "      <td>0.0</td>\n",
       "      <td>1.0</td>\n",
       "    </tr>\n",
       "    <tr>\n",
       "      <td>57034</td>\n",
       "      <td>57392</td>\n",
       "      <td>2021/3/26</td>\n",
       "      <td>2330</td>\n",
       "      <td>44281.56250</td>\n",
       "      <td>1</td>\n",
       "      <td>36697</td>\n",
       "      <td>590</td>\n",
       "      <td>3974</td>\n",
       "      <td>590</td>\n",
       "      <td>363</td>\n",
       "      <td>...</td>\n",
       "      <td>29</td>\n",
       "      <td>483.123585</td>\n",
       "      <td>590.5</td>\n",
       "      <td>0.0</td>\n",
       "      <td>590.479197</td>\n",
       "      <td>0.000035</td>\n",
       "      <td>0</td>\n",
       "      <td>0</td>\n",
       "      <td>0.0</td>\n",
       "      <td>1.0</td>\n",
       "    </tr>\n",
       "  </tbody>\n",
       "</table>\n",
       "<p>57014 rows × 40 columns</p>\n",
       "</div>"
      ],
      "text/plain": [
       "       Unnamed: 0      zdate    id     stk_time  deal_or_not  accumulated_qty  \\\n",
       "2             360  2021/3/26  2330  44281.37501            0             2060   \n",
       "3             361  2021/3/26  2330  44281.37501            0             2060   \n",
       "4             362  2021/3/26  2330  44281.37501            0             2060   \n",
       "5             363  2021/3/26  2330  44281.37501            0             2060   \n",
       "6             364  2021/3/26  2330  44281.37501            0             2060   \n",
       "...           ...        ...   ...          ...          ...              ...   \n",
       "57030       57388  2021/3/26  2330  44281.56230            1            32723   \n",
       "57031       57389  2021/3/26  2330  44281.56236            1            32723   \n",
       "57032       57390  2021/3/26  2330  44281.56241            1            32723   \n",
       "57033       57391  2021/3/26  2330  44281.56247            1            32723   \n",
       "57034       57392  2021/3/26  2330  44281.56250            1            36697   \n",
       "\n",
       "       deal_price  deal_qty  bid_1  bid_qty1  ...  flow_imbalance  \\\n",
       "2               0         0    581       170  ...             116   \n",
       "3               0         0    581       170  ...             116   \n",
       "4               0         0    581       195  ...             141   \n",
       "5               0         0    581       214  ...             160   \n",
       "6               0         0    581       214  ...             160   \n",
       "...           ...       ...    ...       ...  ...             ...   \n",
       "57030         590      3942    590       381  ...              58   \n",
       "57031         590      3950    590       322  ...              -1   \n",
       "57032         590      3949    590       367  ...              42   \n",
       "57033         590      3949    590       383  ...              59   \n",
       "57034         590      3974    590       363  ...              29   \n",
       "\n",
       "       weighted_qty  mid_1  mid_pct        theo  theo_pct  action  position  \\\n",
       "2        155.264968  581.5      0.0  581.241071 -0.000002       0         0   \n",
       "3        155.264968  581.5      0.0  581.241071  0.000000       0         0   \n",
       "4        172.593648  581.5      0.0  581.216867 -0.000042       0         0   \n",
       "5        185.763444  581.5      0.0  581.201493 -0.000026       0         0   \n",
       "6        185.763444  581.5      0.0  581.201493  0.000000       0         0   \n",
       "...             ...    ...      ...         ...       ...     ...       ...   \n",
       "57030    487.975615  590.5      0.0  590.458807 -0.000032       0         0   \n",
       "57031    447.079931  590.5      0.0  590.500775  0.000071       0         0   \n",
       "57032    479.657849  590.5      0.0  590.469653 -0.000053       0         0   \n",
       "57033    490.055057  590.5      0.0  590.458274 -0.000019       0         0   \n",
       "57034    483.123585  590.5      0.0  590.479197  0.000035       0         0   \n",
       "\n",
       "       return  return2  \n",
       "2         0.0      1.0  \n",
       "3         0.0      1.0  \n",
       "4         0.0      1.0  \n",
       "5         0.0      1.0  \n",
       "6         0.0      1.0  \n",
       "...       ...      ...  \n",
       "57030     0.0      1.0  \n",
       "57031     0.0      1.0  \n",
       "57032     0.0      1.0  \n",
       "57033     0.0      1.0  \n",
       "57034     0.0      1.0  \n",
       "\n",
       "[57014 rows x 40 columns]"
      ]
     },
     "execution_count": 71,
     "metadata": {},
     "output_type": "execute_result"
    }
   ],
   "source": [
    "df"
   ]
  },
  {
   "cell_type": "code",
   "execution_count": 113,
   "metadata": {},
   "outputs": [],
   "source": [
    "under_crit = 0.0\n",
    "upper_crit = 0.5"
   ]
  },
  {
   "cell_type": "code",
   "execution_count": 123,
   "metadata": {
    "scrolled": false
   },
   "outputs": [
    {
     "name": "stderr",
     "output_type": "stream",
     "text": [
      "100%|██████████████████████████████████████████████████████████████████████████| 81391/81391 [00:15<00:00, 5280.39it/s]\n"
     ]
    }
   ],
   "source": [
    "df[\"action2\"] = df[\"flow_imbalance\"]*0\n",
    "for i in trange(0, len(df[\"flow_imbalance\"])):\n",
    "    if  df[\"flow_imbalance\"].iloc[i] >0.5  and df[\"action2\"].iloc[0:i].sum() < 1:\n",
    "        df[\"action2\"].iloc[i] = 1\n",
    "    elif df[\"flow_imbalance\"].iloc[i]<-0.5  and df[\"action2\"].iloc[0:i].sum() > -1:\n",
    "        df[\"action2\"].iloc[i] = -1\n"
   ]
  },
  {
   "cell_type": "code",
   "execution_count": 126,
   "metadata": {
    "scrolled": true
   },
   "outputs": [
    {
     "data": {
      "text/plain": [
       "1821"
      ]
     },
     "execution_count": 126,
     "metadata": {},
     "output_type": "execute_result"
    }
   ],
   "source": [
    "len(df[df[\"action2\"]!=0])\n"
   ]
  },
  {
   "cell_type": "code",
   "execution_count": 190,
   "metadata": {},
   "outputs": [
    {
     "data": {
      "text/plain": [
       "3       -0.159915\n",
       "4       -0.157447\n",
       "5       -0.157447\n",
       "6       -0.157447\n",
       "7       -0.155650\n",
       "           ...   \n",
       "81604    0.583924\n",
       "81605   -0.244537\n",
       "81606    0.811974\n",
       "81607    0.857834\n",
       "81608    0.859427\n",
       "Name: flow_imbalance, Length: 81391, dtype: float64"
      ]
     },
     "execution_count": 190,
     "metadata": {},
     "output_type": "execute_result"
    }
   ],
   "source": [
    "df[\"flow_imbalance\"]"
   ]
  },
  {
   "cell_type": "code",
   "execution_count": 180,
   "metadata": {
    "scrolled": false
   },
   "outputs": [
    {
     "name": "stderr",
     "output_type": "stream",
     "text": [
      "C:\\Users\\user\\Anaconda3\\lib\\site-packages\\seaborn\\distributions.py:2557: FutureWarning: `distplot` is a deprecated function and will be removed in a future version. Please adapt your code to use either `displot` (a figure-level function with similar flexibility) or `histplot` (an axes-level function for histograms).\n",
      "  warnings.warn(msg, FutureWarning)\n"
     ]
    },
    {
     "data": {
      "text/plain": [
       "<matplotlib.axes._subplots.AxesSubplot at 0x20bb36c5b08>"
      ]
     },
     "execution_count": 180,
     "metadata": {},
     "output_type": "execute_result"
    },
    {
     "data": {
      "image/png": "[encoded data removed]",
      "text/plain": [
       "<Figure size 432x288 with 1 Axes>"
      ]
     },
     "metadata": {
      "needs_background": "light"
     },
     "output_type": "display_data"
    }
   ],
   "source": [
    "sns.distplot((df[\"flow_imbalance\"])*(1/df[\"entro\"]))"
   ]
  },
  {
   "cell_type": "code",
   "execution_count": 182,
   "metadata": {},
   "outputs": [],
   "source": [
    "np.mean((df[\"flow_imbalance\"])*(1/df[\"entro\"]))\n",
    "df[\"test\"] = (df[\"flow_imbalance\"])*(1/df[\"entro\"])"
   ]
  },
  {
   "cell_type": "code",
   "execution_count": 163,
   "metadata": {},
   "outputs": [
    {
     "name": "stderr",
     "output_type": "stream",
     "text": [
      "100%|█████████████████████████████████████████████████████████████████████████| 81391/81391 [00:03<00:00, 24849.24it/s]\n"
     ]
    }
   ],
   "source": [
    "df[\"action\"] = df[\"entro\"]*0\n",
    "for i in trange(0, len(df[\"entro\"])):\n",
    "    if df[\"entro\"].iloc[i]<0.1 and df[\"flow_imbalance\"].iloc[i]>0.5 and df[\"action\"].iloc[0:i].sum() < 1:\n",
    "        df[\"action\"].iloc[i] = 1\n",
    "    elif df[\"entro\"].iloc[i]<0.1 and df[\"flow_imbalance\"].iloc[i]<-0.5  and df[\"action\"].iloc[0:i].sum() > -1:\n",
    "        df[\"action\"].iloc[i] = -1\n"
   ]
  },
  {
   "cell_type": "code",
   "execution_count": 203,
   "metadata": {},
   "outputs": [
    {
     "name": "stderr",
     "output_type": "stream",
     "text": [
      "\n",
      "  0%|                                                                                        | 0/81391 [00:00<?, ?it/s]\n",
      "  2%|█▎                                                                        | 1460/81391 [00:00<00:05, 14494.37it/s]\n",
      "  4%|██▉                                                                       | 3190/81391 [00:00<00:05, 15206.22it/s]\n",
      "  6%|████▊                                                                     | 5258/81391 [00:00<00:04, 16487.80it/s]\n",
      "  8%|██████                                                                    | 6603/81391 [00:00<00:04, 15401.38it/s]\n",
      " 10%|███████▏                                                                  | 7837/81391 [00:00<00:05, 13547.88it/s]\n",
      " 13%|█████████▋                                                               | 10809/81391 [00:00<00:04, 16171.53it/s]\n",
      " 15%|███████████▏                                                             | 12521/81391 [00:00<00:04, 16365.06it/s]\n",
      " 19%|██████████████                                                           | 15701/81391 [00:00<00:03, 19128.84it/s]\n",
      " 22%|████████████████▎                                                        | 18224/81391 [00:00<00:03, 20588.32it/s]\n",
      " 25%|██████████████████▍                                                      | 20530/81391 [00:01<00:02, 21229.18it/s]\n",
      " 28%|████████████████████▍                                                    | 22798/81391 [00:01<00:02, 21595.96it/s]\n",
      " 33%|███████████████████████▊                                                 | 26605/81391 [00:01<00:02, 24785.17it/s]\n",
      " 37%|███████████████████████████                                              | 30206/81391 [00:01<00:01, 27294.45it/s]\n",
      " 42%|██████████████████████████████▊                                          | 34312/81391 [00:01<00:01, 30297.50it/s]\n",
      " 46%|█████████████████████████████████▋                                       | 37616/81391 [00:01<00:01, 25852.94it/s]\n",
      " 50%|████████████████████████████████████▎                                    | 40507/81391 [00:01<00:01, 24926.16it/s]\n",
      " 53%|██████████████████████████████████████▊                                  | 43221/81391 [00:01<00:01, 20582.65it/s]\n",
      " 56%|████████████████████████████████████████▊                                | 45560/81391 [00:02<00:01, 20366.61it/s]\n",
      " 60%|████████████████████████████████████████████                             | 49176/81391 [00:02<00:01, 23404.34it/s]\n",
      " 64%|██████████████████████████████████████████████▍                          | 51817/81391 [00:02<00:01, 22391.55it/s]\n",
      " 69%|██████████████████████████████████████████████████                       | 55767/81391 [00:02<00:00, 25698.90it/s]\n",
      " 72%|████████████████████████████████████████████████████▌                    | 58665/81391 [00:02<00:01, 20925.01it/s]\n",
      " 75%|██████████████████████████████████████████████████████▊                  | 61131/81391 [00:02<00:01, 17437.36it/s]\n",
      " 78%|████████████████████████████████████████████████████████▊                | 63303/81391 [00:02<00:00, 18516.25it/s]\n",
      " 80%|██████████████████████████████████████████████████████████▋              | 65425/81391 [00:02<00:00, 19200.53it/s]\n",
      " 83%|████████████████████████████████████████████████████████████▌            | 67541/81391 [00:03<00:00, 18052.49it/s]\n",
      " 85%|██████████████████████████████████████████████████████████████▎          | 69497/81391 [00:03<00:00, 16700.37it/s]\n",
      " 89%|█████████████████████████████████████████████████████████████████▏       | 72614/81391 [00:03<00:00, 19393.31it/s]\n",
      " 92%|███████████████████████████████████████████████████████████████████      | 74804/81391 [00:03<00:00, 16842.14it/s]\n",
      " 94%|████████████████████████████████████████████████████████████████████▊    | 76724/81391 [00:03<00:00, 14694.17it/s]\n",
      "100%|█████████████████████████████████████████████████████████████████████████| 81391/81391 [00:03<00:00, 21001.04it/s]\n"
     ]
    }
   ],
   "source": [
    "df[\"action\"] = df[\"test\"]*0\n",
    "for i in trange(0, len(df[\"entro\"])):\n",
    "    if df[\"test\"].iloc[i]>8 and df[\"action\"].iloc[0:i].sum() < 1:\n",
    "        df[\"action\"].iloc[i] = 1\n",
    "    elif df[\"test\"].iloc[i]<-8  and df[\"action\"].iloc[0:i].sum() > -1:\n",
    "        df[\"action\"].iloc[i] = -1\n"
   ]
  },
  {
   "cell_type": "code",
   "execution_count": 204,
   "metadata": {},
   "outputs": [
    {
     "data": {
      "text/plain": [
       "929.0"
      ]
     },
     "execution_count": 204,
     "metadata": {},
     "output_type": "execute_result"
    }
   ],
   "source": [
    "np.abs(df[\"action\"]).sum()"
   ]
  },
  {
   "cell_type": "code",
   "execution_count": 205,
   "metadata": {
    "scrolled": true
   },
   "outputs": [],
   "source": [
    "df[\"position\"] = df[\"action\"].cumsum()\n",
    "df[\"position2\"] = df[\"action2\"].cumsum()"
   ]
  },
  {
   "cell_type": "code",
   "execution_count": 206,
   "metadata": {},
   "outputs": [],
   "source": [
    "df[\"return\"] = df[\"position\"]*df[\"mid_pct\"]\n",
    "df[\"return3\"] = df[\"position2\"]*df[\"mid_pct\"]"
   ]
  },
  {
   "cell_type": "code",
   "execution_count": 207,
   "metadata": {},
   "outputs": [],
   "source": [
    "df[\"return2\"] = (df[\"return\"]+1).cumprod()\n",
    "df[\"return4\"] = (df[\"return3\"]+1).cumprod()\n"
   ]
  },
  {
   "cell_type": "code",
   "execution_count": 208,
   "metadata": {
    "scrolled": false
   },
   "outputs": [
    {
     "data": {
      "text/plain": [
       "[<matplotlib.lines.Line2D at 0x20bb51e1c48>]"
      ]
     },
     "execution_count": 208,
     "metadata": {},
     "output_type": "execute_result"
    },
    {
     "data": {
      "image/png": "[encoded data removed]",
      "text/plain": [
       "<Figure size 864x432 with 1 Axes>"
      ]
     },
     "metadata": {
      "needs_background": "light"
     },
     "output_type": "display_data"
    }
   ],
   "source": [
    "plt.figure(figsize = (12,6))\n",
    "plt.plot(df[\"return2\"])\n",
    "plt.plot((df[\"mid_pct\"]+1).cumprod())\n",
    "plt.plot(df[\"return4\"])"
   ]
  },
  {
   "cell_type": "code",
   "execution_count": 216,
   "metadata": {
    "scrolled": true
   },
   "outputs": [
    {
     "name": "stderr",
     "output_type": "stream",
     "text": [
      "C:\\Users\\user\\Anaconda3\\lib\\site-packages\\Cython\\Distutils\\old_build_ext.py:41: UserWarning: Cython.Distutils.old_build_ext does not properly handle dependencies and is deprecated.\n",
      "  \"Cython.Distutils.old_build_ext does not properly handle dependencies \"\n"
     ]
    }
   ],
   "source": [
    "import tick\n",
    "import Hawkes as hk"
   ]
  },
  {
   "cell_type": "code",
   "execution_count": 243,
   "metadata": {},
   "outputs": [
    {
     "name": "stderr",
     "output_type": "stream",
     "text": [
      "ERROR:root:Internal Python error in the inspect module.\n",
      "Below is the traceback from this internal error.\n",
      "\n"
     ]
    },
    {
     "name": "stdout",
     "output_type": "stream",
     "text": [
      "Traceback (most recent call last):\n",
      "  File \"C:\\Users\\user\\Anaconda3\\lib\\site-packages\\IPython\\core\\interactiveshell.py\", line 3326, in run_code\n",
      "    exec(code_obj, self.user_global_ns, self.user_ns)\n",
      "  File \"<ipython-input-243-207387f843db>\", line 19, in <module>\n",
      "    em.fit(kernel1)\n",
      "  File \"C:\\Users\\user\\Anaconda3\\lib\\site-packages\\tick\\hawkes\\inference\\hawkes_em.py\", line 142, in fit\n",
      "    LearnerHawkesNoParam.fit(self, events, end_times=end_times)\n",
      "  File \"C:\\Users\\user\\Anaconda3\\lib\\site-packages\\tick\\hawkes\\inference\\base\\learner_hawkes_noparam.py\", line 96, in fit\n",
      "    self._set_data(events)\n",
      "  File \"C:\\Users\\user\\Anaconda3\\lib\\site-packages\\tick\\hawkes\\inference\\base\\learner_hawkes_noparam.py\", line 114, in _set_data\n",
      "    events, end_times = self._clean_events_and_endtimes(events)\n",
      "  File \"C:\\Users\\user\\Anaconda3\\lib\\site-packages\\tick\\hawkes\\inference\\base\\learner_hawkes_noparam.py\", line 122, in _clean_events_and_endtimes\n",
      "    if len(events[0]) == 0 or not isinstance(events[0][0], np.ndarray):\n",
      "TypeError: 'HawkesKernelTimeFunc' object is not subscriptable\n",
      "\n",
      "During handling of the above exception, another exception occurred:\n",
      "\n",
      "Traceback (most recent call last):\n",
      "  File \"C:\\Users\\user\\Anaconda3\\lib\\site-packages\\IPython\\core\\interactiveshell.py\", line 2040, in showtraceback\n",
      "    stb = value._render_traceback_()\n",
      "AttributeError: 'TypeError' object has no attribute '_render_traceback_'\n",
      "\n",
      "During handling of the above exception, another exception occurred:\n",
      "\n",
      "Traceback (most recent call last):\n",
      "  File \"C:\\Users\\user\\Anaconda3\\lib\\site-packages\\IPython\\core\\ultratb.py\", line 1101, in get_records\n",
      "    return _fixed_getinnerframes(etb, number_of_lines_of_context, tb_offset)\n",
      "  File \"C:\\Users\\user\\Anaconda3\\lib\\site-packages\\IPython\\core\\ultratb.py\", line 319, in wrapped\n",
      "    return f(*args, **kwargs)\n",
      "  File \"C:\\Users\\user\\Anaconda3\\lib\\site-packages\\IPython\\core\\ultratb.py\", line 353, in _fixed_getinnerframes\n",
      "    records = fix_frame_records_filenames(inspect.getinnerframes(etb, context))\n",
      "  File \"C:\\Users\\user\\Anaconda3\\lib\\inspect.py\", line 1502, in getinnerframes\n",
      "    frameinfo = (tb.tb_frame,) + getframeinfo(tb, context)\n",
      "  File \"C:\\Users\\user\\Anaconda3\\lib\\inspect.py\", line 1460, in getframeinfo\n",
      "    filename = getsourcefile(frame) or getfile(frame)\n",
      "  File \"C:\\Users\\user\\Anaconda3\\lib\\inspect.py\", line 696, in getsourcefile\n",
      "    if getattr(getmodule(object, filename), '__loader__', None) is not None:\n",
      "  File \"C:\\Users\\user\\Anaconda3\\lib\\inspect.py\", line 733, in getmodule\n",
      "    if ismodule(module) and hasattr(module, '__file__'):\n",
      "  File \"C:\\Users\\user\\Anaconda3\\lib\\site-packages\\tensorflow\\__init__.py\", line 50, in __getattr__\n",
      "    module = self._load()\n",
      "  File \"C:\\Users\\user\\Anaconda3\\lib\\site-packages\\tensorflow\\__init__.py\", line 44, in _load\n",
      "    module = _importlib.import_module(self.__name__)\n",
      "  File \"C:\\Users\\user\\Anaconda3\\lib\\importlib\\__init__.py\", line 127, in import_module\n",
      "    return _bootstrap._gcd_import(name[level:], package, level)\n",
      "  File \"<frozen importlib._bootstrap>\", line 1006, in _gcd_import\n",
      "  File \"<frozen importlib._bootstrap>\", line 983, in _find_and_load\n",
      "  File \"<frozen importlib._bootstrap>\", line 965, in _find_and_load_unlocked\n",
      "ModuleNotFoundError: No module named 'tensorflow_core.estimator'\n"
     ]
    },
    {
     "ename": "TypeError",
     "evalue": "'HawkesKernelTimeFunc' object is not subscriptable",
     "output_type": "error",
     "traceback": [
      "\u001b[1;31m---------------------------------------------------------------------------\u001b[0m"
     ]
    }
   ],
   "source": [
    "from tick.plot import plot_hawkes_kernels\n",
    "from tick.hawkes import SimuHawkesExpKernels, SimuHawkesMulti, HawkesExpKern\n",
    "import matplotlib.pyplot as plt\n",
    "\n",
    "end_time = 10000\n",
    "n_realizations = 10\n",
    "\n",
    "decays = 3.\n",
    "baseline = [0.12, ]\n",
    "adjacency = [[.3, 0.]]\n",
    "\n",
    "hawkes_exp_kernels = SimuHawkesExpKernels(\n",
    "    adjacency=adjacency, decays=decays, baseline=baseline,\n",
    "    end_time=end_time, verbose=False, seed=1039)\n",
    "\n",
    "multi = SimuHawkesMulti(hawkes_exp_kernels, n_simulations=n_realizations)\n",
    "\n",
    "multi.end_time = [(i + 1) / 10 * end_time for i in range(n_realizations)]\n",
    "multi.simulate()\n",
    "\n",
    "learner = HawkesExpKern(decays, penalty='l1', C=10, gofit='likelihood', \n",
    "                        verbose=True, tol=1e-11, solver='svrg', step=1e-3)\n",
    "learner.fit(multi.timestamps, start=0.1)\n",
    "\n",
    "plot_hawkes_kernels(learner, hawkes=hawkes_exp_kernels)"
   ]
  }
 ],
 "metadata": {
  "kernelspec": {
   "display_name": "Python 3",
   "language": "python",
   "name": "python3"
  },
  "language_info": {
   "codemirror_mode": {
    "name": "ipython",
    "version": 3
   },
   "file_extension": ".py",
   "mimetype": "text/x-python",
   "name": "python",
   "nbconvert_exporter": "python",
   "pygments_lexer": "ipython3",
   "version": "3.7.4"
  }
 },
 "nbformat": 4,
 "nbformat_minor": 2
}
