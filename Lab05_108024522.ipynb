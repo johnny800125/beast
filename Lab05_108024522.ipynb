{
 "cells": [
  {
   "cell_type": "markdown",
   "metadata": {
    "id": "45AakrthKgPW"
   },
   "source": [
    "## **讀取檔案**"
   ]
  },
  {
   "cell_type": "code",
   "execution_count": null,
   "metadata": {},
   "outputs": [],
   "source": [
    "import os\n",
    "print(os.getcwd())\n",
    " \n",
    "os.chdir('C:/Users/user/Documents/python')\n",
    " \n",
    "print(os.getcwd())"
   ]
  },
  {
   "cell_type": "code",
   "execution_count": 4,
   "metadata": {
    "id": "g8eF_izfubwo"
   },
   "outputs": [
    {
     "name": "stdout",
     "output_type": "stream",
     "text": [
      "(85751, 8)\n",
      "Index(['PERIOD', 'GAME_CLOCK', 'SHOT_CLOCK', 'DRIBBLES', 'TOUCH_TIME',\n",
      "       'SHOT_DIST', 'PTS_TYPE', 'CLOSE_DEF_DIST'],\n",
      "      dtype='object')\n",
      "Index(['FGM'], dtype='object')\n"
     ]
    }
   ],
   "source": [
    "import pandas as pd\n",
    "import numpy as np\n",
    "X_train = pd.read_csv('X_train.csv')\n",
    "y_train = pd.read_csv('y_train.csv')\n",
    "\n",
    "X_test = pd.read_csv('X_test.csv')\n",
    "print(X_train.shape)\n",
    "print(X_train.columns)\n",
    "print(y_train.columns)"
   ]
  },
  {
   "cell_type": "markdown",
   "metadata": {
    "id": "4f-9QFQ59bf7"
   },
   "source": [
    "### **標準化**"
   ]
  },
  {
   "cell_type": "code",
   "execution_count": 5,
   "metadata": {
    "id": "2vVSVWalCShj"
   },
   "outputs": [],
   "source": [
    "from sklearn.preprocessing import StandardScaler\n",
    "# Z-normalize data\n",
    "sc = StandardScaler()\n",
    "X_std = sc.fit_transform(X_train)"
   ]
  },
  {
   "cell_type": "markdown",
   "metadata": {
    "id": "cpN1CAEUMllv"
   },
   "source": [
    "## **Ridge regression**"
   ]
  },
  {
   "cell_type": "code",
   "execution_count": 6,
   "metadata": {
    "colab": {
     "base_uri": "https://localhost:8080/",
     "height": 364
    },
    "executionInfo": {
     "elapsed": 5946,
     "status": "ok",
     "timestamp": 1602150859386,
     "user": {
      "displayName": "劉Liou",
      "photoUrl": "",
      "userId": "02836819393303490935"
     },
     "user_tz": -480
    },
    "id": "6RdZ8qDnwe3S",
    "outputId": "6b411744-da61-42a9-871a-5e9cb8f22403"
   },
   "outputs": [
    {
     "name": "stdout",
     "output_type": "stream",
     "text": [
      "\n",
      "[Alpha = 0]\n",
      "Train&Valid Misclassified samples: 26163 , 6693\n",
      "Train&Valid Accuracy: 0.62 , 0.61\n",
      "\n",
      "[Alpha = 1]\n",
      "Train&Valid Misclassified samples: 26161 , 6676\n",
      "Train&Valid Accuracy: 0.62 , 0.61\n",
      "\n",
      "[Alpha = 10]\n",
      "Train&Valid Misclassified samples: 26160 , 6676\n",
      "Train&Valid Accuracy: 0.62 , 0.61\n",
      "\n",
      "[Alpha = 100]\n",
      "Train&Valid Misclassified samples: 26147 , 6672\n",
      "Train&Valid Accuracy: 0.62 , 0.61\n",
      "\n",
      "[Alpha = 1000]\n",
      "Train&Valid Misclassified samples: 26157 , 6683\n",
      "Train&Valid Accuracy: 0.62 , 0.61\n"
     ]
    }
   ],
   "source": [
    "from sklearn.metrics import accuracy_score\n",
    "from sklearn.linear_model import Ridge\n",
    "from sklearn.metrics import mean_squared_error\n",
    "from sklearn.model_selection import train_test_split\n",
    "from sklearn.preprocessing import PolynomialFeatures\n",
    "\n",
    "X_train = pd.read_csv('X_train.csv')\n",
    "y_train = pd.read_csv('y_train.csv')\n",
    "\n",
    "sc = StandardScaler()\n",
    "X_std = sc.fit_transform(X_train)\n",
    "\n",
    "poly = PolynomialFeatures(degree=3)\n",
    "X_poly = poly.fit_transform(X_std)\n",
    "\n",
    "X_train, X_valid, y_train, y_valid = train_test_split(\n",
    "        X_poly, y_train, test_size=0.2, random_state=0)\n",
    "\n",
    "for a in [0, 1, 10, 100, 1000]:\n",
    "    lr_rg = Ridge(alpha=a)\n",
    "    lr_rg.fit(X_train, y_train)\n",
    "\n",
    "    y_train_pred = lr_rg.predict(X_train)\n",
    "    y_valid_pred = lr_rg.predict(X_valid)\n",
    "\n",
    "    print('\\n[Alpha = %d]' % a )\n",
    "\n",
    "    y_train_pred = np.where(y_train_pred>0.5,1,0)\n",
    "    y_valid_pred = np.where(y_valid_pred>0.5,1,0)\n",
    "\n",
    "    print('Train&Valid Misclassified samples: %d , %d' % ((y_train != y_train_pred).sum(), \n",
    "                                  (y_valid != y_valid_pred).sum()))\n",
    "    print('Train&Valid Accuracy: %.2f , %.2f' % (accuracy_score(y_train, y_train_pred),\n",
    "                              accuracy_score(y_valid, y_valid_pred)))    "
   ]
  },
  {
   "cell_type": "markdown",
   "metadata": {
    "id": "u4DyyAMT7N_V"
   },
   "source": [
    "Alpha = 100 時表現最好"
   ]
  },
  {
   "cell_type": "markdown",
   "metadata": {
    "id": "OHBEuYw4i3dG"
   },
   "source": [
    "### **挑選 Threshold**"
   ]
  },
  {
   "cell_type": "code",
   "execution_count": 5,
   "metadata": {
    "colab": {
     "base_uri": "https://localhost:8080/",
     "height": 297
    },
    "executionInfo": {
     "elapsed": 2642,
     "status": "ok",
     "timestamp": 1602150969132,
     "user": {
      "displayName": "劉Liou",
      "photoUrl": "",
      "userId": "02836819393303490935"
     },
     "user_tz": -480
    },
    "id": "be7G-GHTTS4S",
    "outputId": "bc95f9a8-3931-4ec7-9a14-3f0cc37cb949"
   },
   "outputs": [
    {
     "data": {
      "image/png": "[encoded data removed]",
      "text/plain": [
       "<Figure size 432x288 with 1 Axes>"
      ]
     },
     "metadata": {
      "needs_background": "light"
     },
     "output_type": "display_data"
    },
    {
     "data": {
      "text/plain": [
       "array([0.51])"
      ]
     },
     "execution_count": 5,
     "metadata": {},
     "output_type": "execute_result"
    }
   ],
   "source": [
    "from matplotlib import pyplot\n",
    "\n",
    "X_train = pd.read_csv('X_train.csv')\n",
    "y_train = pd.read_csv('y_train.csv')\n",
    "\n",
    "sc = StandardScaler()\n",
    "X_std = sc.fit_transform(X_train)\n",
    "\n",
    "poly = PolynomialFeatures(degree=3)\n",
    "X_poly = poly.fit_transform(X_std)\n",
    "\n",
    "X_train, X_valid, y_train, y_valid = train_test_split(\n",
    "        X_poly, y_train, test_size=0.2, random_state=0)\n",
    "\n",
    "a = np.arange(0.4, 0.6, 0.01)\n",
    "results_valid=[]\n",
    "lr_rg = Ridge(alpha=100)\n",
    "lr_rg.fit(X_train, y_train)\n",
    "\n",
    "for n in a:\n",
    "\n",
    "    y_train_pred = lr_rg.predict(X_train)\n",
    "    y_valid_pred = lr_rg.predict(X_valid)\n",
    "\n",
    "\n",
    "    y_train_pred = np.where(y_train_pred>n,1,0)\n",
    "    y_valid_pred = np.where(y_valid_pred>n,1,0)\n",
    "    # print('\\n[Alpha = %.2f]' % n )\n",
    "    # print('Train&Valid Misclassified samples: %d , %d' % ((y_train != y_train_pred).sum(), \n",
    "    #                               (y_valid != y_valid_pred).sum()))\n",
    "    # print('Train&Valid Accuracy: %.2f , %.2f' % (accuracy_score(y_train, y_train_pred),\n",
    "    #                           accuracy_score(y_valid, y_valid_pred)))\n",
    "    acc_valid = (y_valid != y_valid_pred).sum()\n",
    "    results_valid.append(acc_valid)\n",
    "    \n",
    "pyplot.plot(a, results_valid, label = 'Valid', color = 'blue', linewidth = 2)\n",
    "pyplot.xlabel('Threshold')\n",
    "pyplot.ylabel('Valid Misclassified samples')\n",
    "pyplot.show()\n",
    "c = pd.DataFrame(results_valid)\n",
    "a[c.idxmin()]"
   ]
  },
  {
   "cell_type": "markdown",
   "metadata": {
    "id": "0ljqKsRYjFyM"
   },
   "source": [
    "Threshold = 0.51 時表現最好"
   ]
  },
  {
   "cell_type": "markdown",
   "metadata": {
    "id": "7ZjGRmnmI9Uj"
   },
   "source": [
    "### **Coefficients v.s. Alpha**"
   ]
  },
  {
   "cell_type": "code",
   "execution_count": 7,
   "metadata": {
    "colab": {
     "base_uri": "https://localhost:8080/",
     "height": 297
    },
    "executionInfo": {
     "elapsed": 225705,
     "status": "ok",
     "timestamp": 1602151201305,
     "user": {
      "displayName": "劉Liou",
      "photoUrl": "",
      "userId": "02836819393303490935"
     },
     "user_tz": -480
    },
    "id": "qKTRaO20IUqO",
    "outputId": "b5dc4c3e-a021-4d2e-c281-a0413980912d"
   },
   "outputs": [
    {
     "data": {
      "image/png": "[encoded data removed]",
      "text/plain": [
       "<Figure size 432x288 with 1 Axes>"
      ]
     },
     "metadata": {
      "needs_background": "light"
     },
     "output_type": "display_data"
    }
   ],
   "source": [
    "import matplotlib.pyplot as plt\n",
    "\n",
    "max_alpha = 1000\n",
    "coef_ = np.zeros((max_alpha, 165))\n",
    "\n",
    "X_train = pd.read_csv('X_train.csv')\n",
    "y_train = pd.read_csv('y_train.csv')\n",
    "\n",
    "sc = StandardScaler()\n",
    "X_std = sc.fit_transform(X_train)\n",
    "\n",
    "poly = PolynomialFeatures(degree=3)\n",
    "X_poly = poly.fit_transform(X_std)\n",
    "\n",
    "X_train, X_valid, y_train, y_valid = train_test_split(\n",
    "        X_poly, y_train, test_size=0.2, random_state=0)\n",
    "\n",
    "for a in range(1, max_alpha):\n",
    "    lr_rg = Ridge(alpha=a)\n",
    "    lr_rg.fit(X_train, y_train)\n",
    "\n",
    "    y_train_pred = lr_rg.predict(X_train)\n",
    "    y_valid_pred = lr_rg.predict(X_valid)\n",
    "    coef_[a,:] = lr_rg.coef_.reshape(1,-1)\n",
    "    \n",
    "plt.hlines(y=0, xmin=0, xmax=max_alpha, color='red', linewidth = 2, linestyle = '--')\n",
    "\n",
    "for i in range(8):\n",
    "    plt.plot(range(max_alpha),coef_[:,i])\n",
    "    \n",
    "plt.ylabel('Coefficients')\n",
    "plt.xlabel('Alpha')\n",
    "plt.tight_layout()\n",
    "plt.show()"
   ]
  },
  {
   "cell_type": "markdown",
   "metadata": {
    "id": "qxfY2nGqmL19"
   },
   "source": [
    "## **LASSO**"
   ]
  },
  {
   "cell_type": "code",
   "execution_count": 12,
   "metadata": {
    "colab": {
     "base_uri": "https://localhost:8080/",
     "height": 540
    },
    "executionInfo": {
     "elapsed": 35942,
     "status": "ok",
     "timestamp": 1602151237262,
     "user": {
      "displayName": "劉Liou",
      "photoUrl": "",
      "userId": "02836819393303490935"
     },
     "user_tz": -480
    },
    "id": "HpDhKI2GmIpl",
    "outputId": "e06ca115-9017-4bc2-92cd-ac6e984511a4"
   },
   "outputs": [
    {
     "name": "stderr",
     "output_type": "stream",
     "text": [
      "C:\\Users\\user\\AppData\\Roaming\\Python\\Python37\\site-packages\\ipykernel_launcher.py:18: UserWarning: With alpha=0, this algorithm does not converge well. You are advised to use the LinearRegression estimator\n",
      "C:\\Users\\user\\anaconda3\\lib\\site-packages\\sklearn\\linear_model\\_coordinate_descent.py:476: UserWarning: Coordinate descent with no regularization may lead to unexpected results and is discouraged.\n",
      "  positive)\n",
      "C:\\Users\\user\\anaconda3\\lib\\site-packages\\sklearn\\linear_model\\_coordinate_descent.py:476: ConvergenceWarning: Objective did not converge. You might want to increase the number of iterations. Duality gap: 7896.1108131296005, tolerance: 1.6993458760932953\n",
      "  positive)\n"
     ]
    },
    {
     "name": "stdout",
     "output_type": "stream",
     "text": [
      "\n",
      "[Alpha = 0.0000]\n",
      "Train&Valid Misclassified samples: 26139 , 6673\n",
      "Train&Valid Accuracy: 0.62 , 0.61\n",
      "\n",
      "[Alpha = 0.0010]\n",
      "Train&Valid Misclassified samples: 26131 , 6676\n",
      "Train&Valid Accuracy: 0.62 , 0.61\n",
      "\n",
      "[Alpha = 0.0100]\n",
      "Train&Valid Misclassified samples: 26281 , 6717\n",
      "Train&Valid Accuracy: 0.62 , 0.61\n",
      "\n",
      "[Alpha = 0.1000]\n",
      "Train&Valid Misclassified samples: 29726 , 7606\n",
      "Train&Valid Accuracy: 0.57 , 0.56\n",
      "\n",
      "[Alpha = 1.0000]\n",
      "Train&Valid Misclassified samples: 31023 , 7887\n",
      "Train&Valid Accuracy: 0.55 , 0.54\n",
      "\n",
      "[Alpha = 10.0000]\n",
      "Train&Valid Misclassified samples: 31023 , 7887\n",
      "Train&Valid Accuracy: 0.55 , 0.54\n"
     ]
    }
   ],
   "source": [
    "from sklearn.linear_model import Lasso\n",
    "from sklearn.metrics import mean_squared_error\n",
    "\n",
    "X_train = pd.read_csv('X_train.csv')\n",
    "y_train = pd.read_csv('y_train.csv')\n",
    "\n",
    "sc = StandardScaler()\n",
    "X_std = sc.fit_transform(X_train)\n",
    "\n",
    "poly = PolynomialFeatures(degree=3)\n",
    "X_poly = poly.fit_transform(X_std)\n",
    "\n",
    "X_train, X_valid, y_train, y_valid = train_test_split(\n",
    "        X_poly, y_train, test_size=0.2, random_state=0)\n",
    "\n",
    "for a in [0, 0.001, 0.01, 0.1, 1, 10]:\n",
    "    lr_rg = Lasso(alpha=a, max_iter=1000)\n",
    "    lr_rg.fit(X_train, y_train)\n",
    "\n",
    "    y_train_pred = lr_rg.predict(X_train)\n",
    "    y_valid_pred = lr_rg.predict(X_valid)\n",
    "\n",
    "    y_train_pred = np.where(y_train_pred>0.5,1,0).reshape(-1,1) \n",
    "    y_valid_pred = np.where(y_valid_pred>0.5,1,0).reshape(-1,1)   \n",
    "\n",
    "    print('\\n[Alpha = %.4f]' % a )\n",
    "\n",
    "    print('Train&Valid Misclassified samples: %d , %d' % ((y_train != y_train_pred).sum(), \n",
    "                                  (y_valid != y_valid_pred).sum()))\n",
    "    print('Train&Valid Accuracy: %.2f , %.2f' % (accuracy_score(y_train, y_train_pred),\n",
    "                              accuracy_score(y_valid, y_valid_pred)))    "
   ]
  },
  {
   "cell_type": "markdown",
   "metadata": {
    "id": "xtFvYpkehYyN"
   },
   "source": [
    "Alpha = 0 時表現最好\n",
    "\n"
   ]
  },
  {
   "cell_type": "markdown",
   "metadata": {
    "id": "_gzB2nh8jZXh"
   },
   "source": [
    "### **挑選 Threshold**"
   ]
  },
  {
   "cell_type": "code",
   "execution_count": 13,
   "metadata": {
    "colab": {
     "base_uri": "https://localhost:8080/",
     "height": 421
    },
    "executionInfo": {
     "elapsed": 55781,
     "status": "ok",
     "timestamp": 1602151257121,
     "user": {
      "displayName": "劉Liou",
      "photoUrl": "",
      "userId": "02836819393303490935"
     },
     "user_tz": -480
    },
    "id": "e87xCnhAhEfE",
    "outputId": "59ae2d9b-c23b-4e90-9757-6a2938e5c147"
   },
   "outputs": [
    {
     "name": "stderr",
     "output_type": "stream",
     "text": [
      "C:\\Users\\user\\AppData\\Roaming\\Python\\Python37\\site-packages\\ipykernel_launcher.py:16: UserWarning: With alpha=0, this algorithm does not converge well. You are advised to use the LinearRegression estimator\n",
      "  app.launch_new_instance()\n",
      "C:\\Users\\user\\anaconda3\\lib\\site-packages\\sklearn\\linear_model\\_coordinate_descent.py:476: UserWarning: Coordinate descent with no regularization may lead to unexpected results and is discouraged.\n",
      "  positive)\n",
      "C:\\Users\\user\\anaconda3\\lib\\site-packages\\sklearn\\linear_model\\_coordinate_descent.py:476: ConvergenceWarning: Objective did not converge. You might want to increase the number of iterations. Duality gap: 7896.1108131296005, tolerance: 1.6993458760932953\n",
      "  positive)\n"
     ]
    },
    {
     "data": {
      "image/png": "[encoded data removed]",
      "text/plain": [
       "<Figure size 432x288 with 1 Axes>"
      ]
     },
     "metadata": {
      "needs_background": "light"
     },
     "output_type": "display_data"
    },
    {
     "data": {
      "text/plain": [
       "array([0.47])"
      ]
     },
     "execution_count": 13,
     "metadata": {},
     "output_type": "execute_result"
    }
   ],
   "source": [
    "X_train = pd.read_csv('X_train.csv')\n",
    "y_train = pd.read_csv('y_train.csv')\n",
    "\n",
    "sc = StandardScaler()\n",
    "X_std = sc.fit_transform(X_train)\n",
    "\n",
    "poly = PolynomialFeatures(degree=3)\n",
    "X_poly = poly.fit_transform(X_std)\n",
    "\n",
    "X_train, X_valid, y_train, y_valid = train_test_split(\n",
    "        X_poly, y_train, test_size=0.2, random_state=0)\n",
    "\n",
    "a = np.arange(0.4, 0.6, 0.01)\n",
    "results_valid=[]\n",
    "lr_rg = Lasso(alpha=0)\n",
    "lr_rg.fit(X_train, y_train)\n",
    "\n",
    "for n in a:\n",
    "    y_train_pred = lr_rg.predict(X_train)\n",
    "    y_valid_pred = lr_rg.predict(X_valid)\n",
    "\n",
    "    y_train_pred = np.where(y_train_pred>n,1,0).reshape(-1,1) \n",
    "    y_valid_pred = np.where(y_valid_pred>n,1,0).reshape(-1,1) \n",
    "\n",
    "\n",
    "    # print('\\n[Alpha = %.2f]' % n )\n",
    "    # print('Train&Valid Misclassified samples: %d , %d' % ((y_train != y_train_pred).sum(), \n",
    "    #                               (y_valid != y_valid_pred).sum()))\n",
    "    # print('Train&Valid Accuracy: %.2f , %.2f' % (accuracy_score(y_train, y_train_pred),\n",
    "    #                           accuracy_score(y_valid, y_valid_pred)))\n",
    "    acc_valid = (y_valid != y_valid_pred).sum()\n",
    "    results_valid.append(acc_valid)\n",
    "    \n",
    "pyplot.plot(a, results_valid, label = 'Valid', color = 'blue', linewidth = 2)\n",
    "pyplot.xlabel('Threshold')\n",
    "pyplot.ylabel('Valid Misclassified samples')\n",
    "pyplot.show()\n",
    "c = pd.DataFrame(results_valid)\n",
    "a[c.idxmin()]"
   ]
  },
  {
   "cell_type": "markdown",
   "metadata": {
    "id": "xRnUu8iZjcvr"
   },
   "source": [
    "Threshold = 0.47 時表現最好"
   ]
  },
  {
   "cell_type": "markdown",
   "metadata": {
    "id": "nMH-mEe2J46N"
   },
   "source": [
    "### **Coefficients v.s. Alpha**"
   ]
  },
  {
   "cell_type": "code",
   "execution_count": 14,
   "metadata": {
    "colab": {
     "base_uri": "https://localhost:8080/",
     "height": 297
    },
    "executionInfo": {
     "elapsed": 1348,
     "status": "ok",
     "timestamp": 1602158980869,
     "user": {
      "displayName": "劉Liou",
      "photoUrl": "",
      "userId": "02836819393303490935"
     },
     "user_tz": -480
    },
    "id": "3lmwxCLr8zgF",
    "outputId": "746ed68f-1405-420a-910c-9f1b9e39d503"
   },
   "outputs": [
    {
     "data": {
      "image/png": "[encoded data removed]",
      "text/plain": [
       "<Figure size 432x288 with 1 Axes>"
      ]
     },
     "metadata": {
      "needs_background": "light"
     },
     "output_type": "display_data"
    }
   ],
   "source": [
    "X_train = pd.read_csv('X_train.csv')\n",
    "y_train = pd.read_csv('y_train.csv')\n",
    "\n",
    "sc = StandardScaler()\n",
    "X_std = sc.fit_transform(X_train)\n",
    "\n",
    "X_train, X_valid, y_train, y_valid = train_test_split(\n",
    "    X_std, y_train, test_size=0.2, random_state=100)\n",
    "\n",
    "max_alpha = 10\n",
    "coef_ = np.zeros((max_alpha,8))\n",
    "\n",
    "for a in range(10):\n",
    "    lr_rg = Lasso(alpha=a+0.1)\n",
    "    lr_rg.fit(X_train, y_train)\n",
    "\n",
    "    y_train_pred = lr_rg.predict(X_train)\n",
    "    y_valid_pred = lr_rg.predict(X_valid)\n",
    "    coef_[a,:] = lr_rg.coef_.reshape(1,-1)\n",
    "    \n",
    "plt.hlines(y=0, xmin=0, xmax=max_alpha, color='red', linewidth = 2, linestyle = '--')\n",
    "\n",
    "for i in range(8):\n",
    "    plt.plot(range(max_alpha),coef_[:,i])\n",
    "    \n",
    "plt.ylabel('Coefficients')\n",
    "plt.xlabel('Alpha')\n",
    "plt.tight_layout()\n",
    "plt.show()"
   ]
  },
  {
   "cell_type": "markdown",
   "metadata": {
    "id": "C1Fs2jLy-59a"
   },
   "source": [
    "### **選前三個變數**"
   ]
  },
  {
   "cell_type": "code",
   "execution_count": 15,
   "metadata": {
    "colab": {
     "base_uri": "https://localhost:8080/",
     "height": 315
    },
    "executionInfo": {
     "elapsed": 243161,
     "status": "ok",
     "timestamp": 1602103052507,
     "user": {
      "displayName": "劉Liou",
      "photoUrl": "",
      "userId": "02836819393303490935"
     },
     "user_tz": -480
    },
    "id": "rgV9zL77-8w6",
    "outputId": "06c6a259-da9a-4cf8-9351-8518c102bd98"
   },
   "outputs": [
    {
     "data": {
      "image/png": "[encoded data removed]",
      "text/plain": [
       "<Figure size 432x288 with 1 Axes>"
      ]
     },
     "metadata": {
      "needs_background": "light"
     },
     "output_type": "display_data"
    },
    {
     "name": "stdout",
     "output_type": "stream",
     "text": [
      "Selected attributes: ['TOUCH_TIME' 'SHOT_DIST' 'CLOSE_DEF_DIST']\n"
     ]
    }
   ],
   "source": [
    "df = pd.read_csv('X_train.csv')\n",
    "y_train = pd.read_csv('y_train.csv')\n",
    "\n",
    "sc = StandardScaler()\n",
    "X_std = sc.fit_transform(df)\n",
    "\n",
    "X_train, X_valid, y_train, y_valid = train_test_split(\n",
    "    X_std, y_train, test_size=0.2, random_state=0)\n",
    "\n",
    "\n",
    "var_num = X_train.shape[1]\n",
    "\n",
    "lr_lasso = Lasso(alpha = 1)\n",
    "lr_lasso.fit(X_train, y_train)\n",
    "lr_ridge = Ridge(alpha = 1)\n",
    "lr_ridge.fit(X_train, y_train)\n",
    "\n",
    "plt.scatter(range(var_num),lr_lasso.coef_, label = 'LASSO', color = 'blue')\n",
    "plt.scatter(range(var_num),lr_ridge.coef_, label = 'Ridge', color = 'green')\n",
    "plt.hlines(y=0, xmin=0, xmax=var_num-1, color='red', linestyle ='--')\n",
    "plt.xlim(0,7)\n",
    "plt.legend(loc = 'upper right')\n",
    "plt.xlabel('Coefficients index')\n",
    "plt.ylabel('Coefficients')\n",
    "plt.tight_layout()\n",
    "plt.show()\n",
    "\n",
    "epsilon = 0.025\n",
    "idxs = np.where(abs(lr_ridge.coef_.reshape(-1)) > epsilon)\n",
    "print('Selected attributes: {}'.format(df.columns.values[idxs]))"
   ]
  },
  {
   "cell_type": "markdown",
   "metadata": {
    "id": "0-02GojkU43-"
   },
   "source": [
    "選到的是:'TOUCH_TIME' 'SHOT_DIST' 'CLOSE_DEF_DIST'這三個變數"
   ]
  },
  {
   "cell_type": "code",
   "execution_count": 17,
   "metadata": {
    "id": "_YhGE5JWUyZe"
   },
   "outputs": [],
   "source": [
    "X_train = pd.read_csv('X_train.csv')\n",
    "y_train = pd.read_csv('y_train.csv')\n",
    "\n",
    "sc = StandardScaler()\n",
    "X_std = sc.fit_transform(X_train)\n",
    "X_std = X_std[:,(4,5,7)]\n",
    "\n"
   ]
  },
  {
   "cell_type": "markdown",
   "metadata": {
    "id": "a0tdEPk1-9gS"
   },
   "source": [
    "## **Random Forest**"
   ]
  },
  {
   "cell_type": "code",
   "execution_count": 19,
   "metadata": {
    "colab": {
     "base_uri": "https://localhost:8080/",
     "height": 661
    },
    "executionInfo": {
     "elapsed": 340428,
     "status": "ok",
     "timestamp": 1602151541790,
     "user": {
      "displayName": "劉Liou",
      "photoUrl": "",
      "userId": "02836819393303490935"
     },
     "user_tz": -480
    },
    "id": "2nY8vPay_C9O",
    "outputId": "a4267bb2-7a04-48eb-fe1a-8f5d9cb078c3"
   },
   "outputs": [
    {
     "name": "stderr",
     "output_type": "stream",
     "text": [
      "C:\\Users\\user\\AppData\\Roaming\\Python\\Python37\\site-packages\\ipykernel_launcher.py:16: DataConversionWarning: A column-vector y was passed when a 1d array was expected. Please change the shape of y to (n_samples,), for example using ravel().\n",
      "  app.launch_new_instance()\n"
     ]
    },
    {
     "name": "stdout",
     "output_type": "stream",
     "text": [
      "\n",
      "[# of tree = 100]\n",
      "Misclassified samples: 6878\n",
      "Accuracy (forest): 0.60\n"
     ]
    },
    {
     "name": "stderr",
     "output_type": "stream",
     "text": [
      "C:\\Users\\user\\AppData\\Roaming\\Python\\Python37\\site-packages\\ipykernel_launcher.py:16: DataConversionWarning: A column-vector y was passed when a 1d array was expected. Please change the shape of y to (n_samples,), for example using ravel().\n",
      "  app.launch_new_instance()\n"
     ]
    },
    {
     "name": "stdout",
     "output_type": "stream",
     "text": [
      "\n",
      "[# of tree = 200]\n",
      "Misclassified samples: 6814\n",
      "Accuracy (forest): 0.60\n"
     ]
    },
    {
     "name": "stderr",
     "output_type": "stream",
     "text": [
      "C:\\Users\\user\\AppData\\Roaming\\Python\\Python37\\site-packages\\ipykernel_launcher.py:16: DataConversionWarning: A column-vector y was passed when a 1d array was expected. Please change the shape of y to (n_samples,), for example using ravel().\n",
      "  app.launch_new_instance()\n"
     ]
    },
    {
     "name": "stdout",
     "output_type": "stream",
     "text": [
      "\n",
      "[# of tree = 300]\n",
      "Misclassified samples: 6814\n",
      "Accuracy (forest): 0.60\n"
     ]
    },
    {
     "name": "stderr",
     "output_type": "stream",
     "text": [
      "C:\\Users\\user\\AppData\\Roaming\\Python\\Python37\\site-packages\\ipykernel_launcher.py:16: DataConversionWarning: A column-vector y was passed when a 1d array was expected. Please change the shape of y to (n_samples,), for example using ravel().\n",
      "  app.launch_new_instance()\n"
     ]
    },
    {
     "name": "stdout",
     "output_type": "stream",
     "text": [
      "\n",
      "[# of tree = 400]\n",
      "Misclassified samples: 6824\n",
      "Accuracy (forest): 0.60\n"
     ]
    },
    {
     "name": "stderr",
     "output_type": "stream",
     "text": [
      "C:\\Users\\user\\AppData\\Roaming\\Python\\Python37\\site-packages\\ipykernel_launcher.py:16: DataConversionWarning: A column-vector y was passed when a 1d array was expected. Please change the shape of y to (n_samples,), for example using ravel().\n",
      "  app.launch_new_instance()\n"
     ]
    },
    {
     "name": "stdout",
     "output_type": "stream",
     "text": [
      "\n",
      "[# of tree = 500]\n",
      "Misclassified samples: 6823\n",
      "Accuracy (forest): 0.60\n"
     ]
    },
    {
     "name": "stderr",
     "output_type": "stream",
     "text": [
      "C:\\Users\\user\\AppData\\Roaming\\Python\\Python37\\site-packages\\ipykernel_launcher.py:16: DataConversionWarning: A column-vector y was passed when a 1d array was expected. Please change the shape of y to (n_samples,), for example using ravel().\n",
      "  app.launch_new_instance()\n"
     ]
    },
    {
     "name": "stdout",
     "output_type": "stream",
     "text": [
      "\n",
      "[# of tree = 600]\n",
      "Misclassified samples: 6828\n",
      "Accuracy (forest): 0.60\n"
     ]
    }
   ],
   "source": [
    "from sklearn.tree import DecisionTreeClassifier, export_graphviz\n",
    "from sklearn.ensemble import RandomForestClassifier\n",
    "\n",
    "n_est = [100, 200, 300, 400, 500, 600]\n",
    "for n in n_est:\n",
    "\n",
    "    X_train = pd.read_csv('X_train.csv')\n",
    "    y_train = pd.read_csv('y_train.csv')\n",
    "\n",
    "\n",
    "    X_train, X_valid, y_train, y_valid = train_test_split(\n",
    "            X_train, y_train, test_size=0.2, random_state=0)\n",
    "    \n",
    "\n",
    "    forest = RandomForestClassifier(criterion='entropy',n_estimators=n, random_state=0, n_jobs=2, )\n",
    "    forest.fit(X_train, y_train)\n",
    "\n",
    "    y_valid_pred = forest.predict(X_valid).reshape(-1,1)\n",
    "\n",
    "    print('\\n[# of tree = %d]' % n )\n",
    "\n",
    "    print('Misclassified samples: %d' % (y_valid != y_valid_pred).sum())\n",
    "    print('Accuracy (forest): %.2f' % accuracy_score(y_valid, y_valid_pred))"
   ]
  },
  {
   "cell_type": "markdown",
   "metadata": {
    "id": "OzgEUfFvC9fc"
   },
   "source": [
    "tree = 200&300時表現最好"
   ]
  },
  {
   "cell_type": "markdown",
   "metadata": {
    "id": "SrHmacgSJcz_"
   },
   "source": [
    "### **挑選features 個數**"
   ]
  },
  {
   "cell_type": "code",
   "execution_count": 21,
   "metadata": {
    "colab": {
     "base_uri": "https://localhost:8080/",
     "height": 869
    },
    "executionInfo": {
     "elapsed": 919543,
     "status": "ok",
     "timestamp": 1602152120909,
     "user": {
      "displayName": "劉Liou",
      "photoUrl": "",
      "userId": "02836819393303490935"
     },
     "user_tz": -480
    },
    "id": "LbDbKXkOpMLt",
    "outputId": "e5b04605-a077-44a7-a657-93f1be9a017e"
   },
   "outputs": [
    {
     "name": "stderr",
     "output_type": "stream",
     "text": [
      "C:\\Users\\user\\AppData\\Roaming\\Python\\Python37\\site-packages\\ipykernel_launcher.py:13: DataConversionWarning: A column-vector y was passed when a 1d array was expected. Please change the shape of y to (n_samples,), for example using ravel().\n",
      "  del sys.path[0]\n"
     ]
    },
    {
     "name": "stdout",
     "output_type": "stream",
     "text": [
      "\n",
      "[# of features = 1]\n",
      "Misclassified samples: 6864\n",
      "Accuracy (forest): 0.60\n"
     ]
    },
    {
     "name": "stderr",
     "output_type": "stream",
     "text": [
      "C:\\Users\\user\\AppData\\Roaming\\Python\\Python37\\site-packages\\ipykernel_launcher.py:13: DataConversionWarning: A column-vector y was passed when a 1d array was expected. Please change the shape of y to (n_samples,), for example using ravel().\n",
      "  del sys.path[0]\n"
     ]
    },
    {
     "name": "stdout",
     "output_type": "stream",
     "text": [
      "\n",
      "[# of features = 2]\n",
      "Misclassified samples: 6814\n",
      "Accuracy (forest): 0.60\n"
     ]
    },
    {
     "name": "stderr",
     "output_type": "stream",
     "text": [
      "C:\\Users\\user\\AppData\\Roaming\\Python\\Python37\\site-packages\\ipykernel_launcher.py:13: DataConversionWarning: A column-vector y was passed when a 1d array was expected. Please change the shape of y to (n_samples,), for example using ravel().\n",
      "  del sys.path[0]\n"
     ]
    },
    {
     "name": "stdout",
     "output_type": "stream",
     "text": [
      "\n",
      "[# of features = 3]\n",
      "Misclassified samples: 6911\n",
      "Accuracy (forest): 0.60\n"
     ]
    },
    {
     "name": "stderr",
     "output_type": "stream",
     "text": [
      "C:\\Users\\user\\AppData\\Roaming\\Python\\Python37\\site-packages\\ipykernel_launcher.py:13: DataConversionWarning: A column-vector y was passed when a 1d array was expected. Please change the shape of y to (n_samples,), for example using ravel().\n",
      "  del sys.path[0]\n"
     ]
    },
    {
     "name": "stdout",
     "output_type": "stream",
     "text": [
      "\n",
      "[# of features = 4]\n",
      "Misclassified samples: 6914\n",
      "Accuracy (forest): 0.60\n"
     ]
    },
    {
     "name": "stderr",
     "output_type": "stream",
     "text": [
      "C:\\Users\\user\\AppData\\Roaming\\Python\\Python37\\site-packages\\ipykernel_launcher.py:13: DataConversionWarning: A column-vector y was passed when a 1d array was expected. Please change the shape of y to (n_samples,), for example using ravel().\n",
      "  del sys.path[0]\n"
     ]
    },
    {
     "name": "stdout",
     "output_type": "stream",
     "text": [
      "\n",
      "[# of features = 5]\n",
      "Misclassified samples: 6924\n",
      "Accuracy (forest): 0.60\n"
     ]
    },
    {
     "name": "stderr",
     "output_type": "stream",
     "text": [
      "C:\\Users\\user\\AppData\\Roaming\\Python\\Python37\\site-packages\\ipykernel_launcher.py:13: DataConversionWarning: A column-vector y was passed when a 1d array was expected. Please change the shape of y to (n_samples,), for example using ravel().\n",
      "  del sys.path[0]\n"
     ]
    },
    {
     "name": "stdout",
     "output_type": "stream",
     "text": [
      "\n",
      "[# of features = 6]\n",
      "Misclassified samples: 6940\n",
      "Accuracy (forest): 0.60\n"
     ]
    },
    {
     "name": "stderr",
     "output_type": "stream",
     "text": [
      "C:\\Users\\user\\AppData\\Roaming\\Python\\Python37\\site-packages\\ipykernel_launcher.py:13: DataConversionWarning: A column-vector y was passed when a 1d array was expected. Please change the shape of y to (n_samples,), for example using ravel().\n",
      "  del sys.path[0]\n"
     ]
    },
    {
     "name": "stdout",
     "output_type": "stream",
     "text": [
      "\n",
      "[# of features = 7]\n",
      "Misclassified samples: 6942\n",
      "Accuracy (forest): 0.60\n"
     ]
    },
    {
     "name": "stderr",
     "output_type": "stream",
     "text": [
      "C:\\Users\\user\\AppData\\Roaming\\Python\\Python37\\site-packages\\ipykernel_launcher.py:13: DataConversionWarning: A column-vector y was passed when a 1d array was expected. Please change the shape of y to (n_samples,), for example using ravel().\n",
      "  del sys.path[0]\n"
     ]
    },
    {
     "name": "stdout",
     "output_type": "stream",
     "text": [
      "\n",
      "[# of features = 8]\n",
      "Misclassified samples: 6942\n",
      "Accuracy (forest): 0.60\n"
     ]
    }
   ],
   "source": [
    "n_fea = [1, 2, 3, 4, 5, 6, 7, 8]\n",
    "for n in n_fea:\n",
    "\n",
    "    X_train = pd.read_csv('X_train.csv')\n",
    "    y_train = pd.read_csv('y_train.csv')\n",
    "\n",
    "\n",
    "    X_train, X_valid, y_train, y_valid = train_test_split(\n",
    "            X_train, y_train, test_size=0.2, random_state=0)\n",
    "    \n",
    "\n",
    "    forest = RandomForestClassifier(criterion='entropy',n_estimators=300, random_state=0, n_jobs=2, max_features=n)\n",
    "    forest.fit(X_train, y_train)\n",
    "\n",
    "    y_valid_pred = forest.predict(X_valid).reshape(-1,1)\n",
    "\n",
    "    print('\\n[# of features = %d]' % n )\n",
    "\n",
    "    print('Misclassified samples: %d' % (y_valid != y_valid_pred).sum())\n",
    "    print('Accuracy (forest): %.2f' % accuracy_score(y_valid, y_valid_pred))"
   ]
  },
  {
   "cell_type": "markdown",
   "metadata": {
    "id": "6ZOrszgtubKQ"
   },
   "source": [
    "max_features = 2 時表現最好"
   ]
  },
  {
   "cell_type": "markdown",
   "metadata": {
    "id": "w4jtSPeaQOTS"
   },
   "source": [
    "### **樹深度的選擇**"
   ]
  },
  {
   "cell_type": "code",
   "execution_count": 24,
   "metadata": {
    "colab": {
     "base_uri": "https://localhost:8080/",
     "height": 349
    },
    "executionInfo": {
     "elapsed": 64454,
     "status": "ok",
     "timestamp": 1602161927370,
     "user": {
      "displayName": "劉Liou",
      "photoUrl": "",
      "userId": "02836819393303490935"
     },
     "user_tz": -480
    },
    "id": "araB6M5hQKYP",
    "outputId": "580931f9-4532-42a1-f611-7bf347fd80ba"
   },
   "outputs": [
    {
     "name": "stderr",
     "output_type": "stream",
     "text": [
      "C:\\Users\\user\\AppData\\Roaming\\Python\\Python37\\site-packages\\ipykernel_launcher.py:12: DataConversionWarning: A column-vector y was passed when a 1d array was expected. Please change the shape of y to (n_samples,), for example using ravel().\n",
      "  if sys.path[0] == '':\n"
     ]
    },
    {
     "name": "stdout",
     "output_type": "stream",
     "text": [
      "\n",
      "[# of depth = 8]\n",
      "Misclassified samples: 6652\n",
      "Accuracy (forest): 0.61\n"
     ]
    },
    {
     "name": "stderr",
     "output_type": "stream",
     "text": [
      "C:\\Users\\user\\AppData\\Roaming\\Python\\Python37\\site-packages\\ipykernel_launcher.py:12: DataConversionWarning: A column-vector y was passed when a 1d array was expected. Please change the shape of y to (n_samples,), for example using ravel().\n",
      "  if sys.path[0] == '':\n"
     ]
    },
    {
     "name": "stdout",
     "output_type": "stream",
     "text": [
      "\n",
      "[# of depth = 15]\n",
      "Misclassified samples: 6629\n",
      "Accuracy (forest): 0.61\n"
     ]
    },
    {
     "name": "stderr",
     "output_type": "stream",
     "text": [
      "C:\\Users\\user\\AppData\\Roaming\\Python\\Python37\\site-packages\\ipykernel_launcher.py:12: DataConversionWarning: A column-vector y was passed when a 1d array was expected. Please change the shape of y to (n_samples,), for example using ravel().\n",
      "  if sys.path[0] == '':\n"
     ]
    },
    {
     "name": "stdout",
     "output_type": "stream",
     "text": [
      "\n",
      "[# of depth = 20]\n",
      "Misclassified samples: 6710\n",
      "Accuracy (forest): 0.61\n"
     ]
    }
   ],
   "source": [
    "X_train = pd.read_csv('X_train.csv')\n",
    "y_train = pd.read_csv('y_train.csv')\n",
    "\n",
    "\n",
    "X_train, X_valid, y_train, y_valid = train_test_split(\n",
    "            X_train, y_train, test_size=0.2, random_state=0)\n",
    "\n",
    "n_deep = [8, 15, 20]\n",
    "for n in n_deep:    \n",
    "\n",
    "    forest = RandomForestClassifier(criterion='entropy',n_estimators=300, random_state=0, n_jobs=2, max_features=2, max_depth=n)\n",
    "    forest.fit(X_train, y_train)\n",
    "\n",
    "    y_valid_pred = forest.predict(X_valid).reshape(-1,1)\n",
    "\n",
    "    print('\\n[# of depth = %d]' % n )\n",
    "\n",
    "    print('Misclassified samples: %d' % (y_valid != y_valid_pred).sum())\n",
    "    print('Accuracy (forest): %.2f' % accuracy_score(y_valid, y_valid_pred))"
   ]
  },
  {
   "cell_type": "markdown",
   "metadata": {
    "id": "9Y8wXi9ASz-m"
   },
   "source": [
    "深度為15時表現最好"
   ]
  },
  {
   "cell_type": "markdown",
   "metadata": {
    "id": "eKM5lZfnyAjX"
   },
   "source": [
    "### **Feature Importance**"
   ]
  },
  {
   "cell_type": "code",
   "execution_count": 25,
   "metadata": {
    "colab": {
     "base_uri": "https://localhost:8080/",
     "height": 436
    },
    "executionInfo": {
     "elapsed": 487739,
     "status": "ok",
     "timestamp": 1602103297114,
     "user": {
      "displayName": "劉Liou",
      "photoUrl": "",
      "userId": "02836819393303490935"
     },
     "user_tz": -480
    },
    "id": "yXT0bjHFyAHI",
    "outputId": "9804e610-279a-4f54-e149-649fb1085282"
   },
   "outputs": [
    {
     "name": "stdout",
     "output_type": "stream",
     "text": [
      " 1) SHOT_DIST                      0.213170\n",
      " 2) GAME_CLOCK                     0.189921\n",
      " 3) SHOT_CLOCK                     0.176071\n",
      " 4) CLOSE_DEF_DIST                 0.168545\n",
      " 5) TOUCH_TIME                     0.140592\n",
      " 6) PERIOD                         0.050648\n",
      " 7) DRIBBLES                       0.048553\n",
      " 8) PTS_TYPE                       0.012500\n"
     ]
    },
    {
     "data": {
      "image/png": "[encoded data removed]",
      "text/plain": [
       "<Figure size 432x288 with 1 Axes>"
      ]
     },
     "metadata": {
      "needs_background": "light"
     },
     "output_type": "display_data"
    }
   ],
   "source": [
    "importances = forest.feature_importances_\n",
    "# get sort indices in descending order\n",
    "indices = np.argsort(importances)[::-1]\n",
    "\n",
    "for f in range(X_train.shape[1]):\n",
    "    print(\"%2d) %-*s %f\" % (f + 1, 30, \n",
    "                            X_train.columns.values[indices[f]], \n",
    "                            importances[indices[f]]))\n",
    "\n",
    "plt.figure()\n",
    "plt.title('Feature Importances')\n",
    "plt.bar(range(X_train.shape[1]),\n",
    "        importances[indices],\n",
    "        align='center',\n",
    "        alpha=0.5)\n",
    "\n",
    "plt.xticks(range(X_train.shape[1]), \n",
    "           X_train.columns.values[indices], rotation=90)\n",
    "plt.tight_layout()\n",
    "plt.show()"
   ]
  },
  {
   "cell_type": "markdown",
   "metadata": {
    "id": "Un7EJuIj0M-7"
   },
   "source": [
    "選到的是:'GAME_CLOCK' 'SHOT_DIST' 'SHOT_CLOCK'這三個變數"
   ]
  },
  {
   "cell_type": "code",
   "execution_count": 27,
   "metadata": {
    "colab": {
     "base_uri": "https://localhost:8080/",
     "height": 437
    },
    "executionInfo": {
     "elapsed": 2688,
     "status": "ok",
     "timestamp": 1602106401602,
     "user": {
      "displayName": "劉Liou",
      "photoUrl": "",
      "userId": "02836819393303490935"
     },
     "user_tz": -480
    },
    "id": "JwvqzkxSyjs0",
    "outputId": "eb876e20-6104-4571-f6fd-8b1f7fa54b84"
   },
   "outputs": [
    {
     "data": {
      "image/png": "[encoded data removed]",
      "text/plain": [
       "<Figure size 864x432 with 1 Axes>"
      ]
     },
     "metadata": {},
     "output_type": "display_data"
    }
   ],
   "source": [
    "import os\n",
    "import seaborn as sns\n",
    "sns.set(style='whitegrid', context='notebook')\n",
    "\n",
    "#import Axes3D for plottin 3d scatter\n",
    "from mpl_toolkits.mplot3d import Axes3D\n",
    "\n",
    "X_train = pd.read_csv('X_train.csv')\n",
    "y_train = pd.read_csv('y_train.csv')\n",
    "Z_forest = X_train[['GAME_CLOCK', 'SHOT_DIST', 'SHOT_CLOCK']].values\n",
    "\n",
    "colors = ['b', 'r']\n",
    "markers = ['x', 'o']\n",
    "fig = plt.figure(figsize=(12,6))\n",
    "\n",
    "#plot 3D\n",
    "plt3 = fig.add_subplot(1,2,1, projection='3d')\n",
    "for l, c, m in zip(np.unique(y_train.values), colors, markers):\n",
    "    plt.scatter(Z_forest[(y_train.values==l).reshape(-1), 0], \n",
    "                Z_forest[(y_train.values==l).reshape(-1), 1],\n",
    "                     Z_forest[(y_train.values==l).reshape(-1), 2],\n",
    "                c=c, label=l, marker=m)\n",
    "\n",
    "plt.title('Z_forest')\n",
    "plt3.set_xlabel('GAME_CLOCK')\n",
    "plt3.set_ylabel('SHOT_DIST')\n",
    "plt3.set_zlabel('SHOT_CLOCK')\n",
    "plt.legend(loc='lower right')\n",
    "plt.tight_layout()\n",
    "plt.show()\n",
    "\n"
   ]
  },
  {
   "cell_type": "markdown",
   "metadata": {
    "id": "WNvZgbgij46W"
   },
   "source": [
    "發現看不出有效的分界面"
   ]
  },
  {
   "cell_type": "markdown",
   "metadata": {
    "id": "65gEEDtwkD2U"
   },
   "source": [
    "## **Random Forest based on PCA**"
   ]
  },
  {
   "cell_type": "code",
   "execution_count": 28,
   "metadata": {
    "colab": {
     "base_uri": "https://localhost:8080/",
     "height": 72
    },
    "executionInfo": {
     "elapsed": 215816,
     "status": "ok",
     "timestamp": 1602150349156,
     "user": {
      "displayName": "劉Liou",
      "photoUrl": "",
      "userId": "02836819393303490935"
     },
     "user_tz": -480
    },
    "id": "l-CT0bGhDmFN",
    "outputId": "23e7b8ec-8b3e-4e76-cc94-107208748479"
   },
   "outputs": [
    {
     "name": "stderr",
     "output_type": "stream",
     "text": [
      "C:\\Users\\user\\AppData\\Roaming\\Python\\Python37\\site-packages\\ipykernel_launcher.py:40: DataConversionWarning: A column-vector y was passed when a 1d array was expected. Please change the shape of y to (n_samples,), for example using ravel().\n"
     ]
    },
    {
     "name": "stdout",
     "output_type": "stream",
     "text": [
      "Accuracy (forest_pca): 0.59\n"
     ]
    }
   ],
   "source": [
    "import numpy as np\n",
    "from sklearn.preprocessing import StandardScaler\n",
    "\n",
    "X_train = pd.read_csv('X_train.csv')\n",
    "y_train = pd.read_csv('y_train.csv')\n",
    "\n",
    "X_train = X_train.values\n",
    "X_train = X_train[:,(1,2,4,5,7)]\n",
    "\n",
    "# Z-normalize data\n",
    "sc = StandardScaler()\n",
    "Z = sc.fit_transform(X_train)\n",
    "# Estimate the correlation matrix\n",
    "R = np.dot(Z.T, Z) / X_train.shape[0]\n",
    "\n",
    "#calculate the eigen values, eigen vectors\n",
    "eigen_vals, eigen_vecs = np.linalg.eigh(R)\n",
    "\n",
    "# Make a list of (eigenvalue, eigenvector) tuples\n",
    "eigen_pairs = [(np.abs(eigen_vals[i]), eigen_vecs[:,i]) for i in range(len(eigen_vals))]\n",
    "\n",
    "# Sort the (eigenvalue, eigenvector) tuples from high to low\n",
    "eigen_pairs.sort(reverse=True)\n",
    "\n",
    "W_3D = np.hstack((eigen_pairs[0][1][:, np.newaxis],\n",
    "               eigen_pairs[1][1][:, np.newaxis],\n",
    "                    eigen_pairs[2][1][:, np.newaxis]))\n",
    "\n",
    "Z_pca = Z.dot(W_3D)\n",
    "\n",
    "Z_pca_train, Z_pca_valid, y_pca_train, y_pca_valid = train_test_split(\n",
    "    Z_pca, y_train, test_size=0.2, random_state=0)\n",
    "\n",
    "# train a random forest based on Z_pca\n",
    "\n",
    "forest_pca = RandomForestClassifier(criterion='entropy',    max_features=2, max_depth=15,\n",
    "                                n_estimators=300, \n",
    "                                random_state=0,\n",
    "                                n_jobs=2)\n",
    "forest_pca.fit(Z_pca_train, y_pca_train)\n",
    "\n",
    "y_pca_pred = forest_pca.predict(Z_pca_valid)\n",
    "print('Accuracy (forest_pca): %.2f' % accuracy_score(y_pca_valid, y_pca_pred))"
   ]
  },
  {
   "cell_type": "markdown",
   "metadata": {
    "id": "gTaOQpN5tJeA"
   },
   "source": [
    "發現結果不是很好"
   ]
  },
  {
   "cell_type": "markdown",
   "metadata": {
    "id": "F6JR33gwWjrc"
   },
   "source": [
    "## **Polynomial+Ridge**  \n",
    "利用Ridge選到的三個變數來配適模型"
   ]
  },
  {
   "cell_type": "code",
   "execution_count": 29,
   "metadata": {
    "colab": {
     "base_uri": "https://localhost:8080/",
     "height": 1000
    },
    "executionInfo": {
     "elapsed": 12125,
     "status": "ok",
     "timestamp": 1602150471928,
     "user": {
      "displayName": "劉Liou",
      "photoUrl": "",
      "userId": "02836819393303490935"
     },
     "user_tz": -480
    },
    "id": "bf_UcbIMWyHh",
    "outputId": "57b72b41-33fe-4178-f61c-633cc22fb9af"
   },
   "outputs": [
    {
     "name": "stdout",
     "output_type": "stream",
     "text": [
      "\n",
      "[Degree = 1]\n",
      "Train&Valid Misclassified samples: 27042 , 6815\n",
      "Train&Valid Accuracy: 0.61 , 0.60\n",
      "\n",
      "[Degree = 2]\n",
      "Train&Valid Misclassified samples: 26411 , 6699\n",
      "Train&Valid Accuracy: 0.61 , 0.61\n",
      "\n",
      "[Degree = 3]\n",
      "Train&Valid Misclassified samples: 26203 , 6730\n",
      "Train&Valid Accuracy: 0.62 , 0.61\n",
      "\n",
      "[Degree = 4]\n",
      "Train&Valid Misclassified samples: 26211 , 6724\n",
      "Train&Valid Accuracy: 0.62 , 0.61\n",
      "\n",
      "[Degree = 5]\n",
      "Train&Valid Misclassified samples: 26227 , 6711\n",
      "Train&Valid Accuracy: 0.62 , 0.61\n"
     ]
    },
    {
     "name": "stderr",
     "output_type": "stream",
     "text": [
      "C:\\Users\\user\\anaconda3\\lib\\site-packages\\sklearn\\linear_model\\_ridge.py:148: LinAlgWarning: Ill-conditioned matrix (rcond=2.90538e-17): result may not be accurate.\n",
      "  overwrite_a=True).T\n"
     ]
    },
    {
     "name": "stdout",
     "output_type": "stream",
     "text": [
      "\n",
      "[Degree = 6]\n",
      "Train&Valid Misclassified samples: 26185 , 6688\n",
      "Train&Valid Accuracy: 0.62 , 0.61\n"
     ]
    },
    {
     "name": "stderr",
     "output_type": "stream",
     "text": [
      "C:\\Users\\user\\anaconda3\\lib\\site-packages\\sklearn\\linear_model\\_ridge.py:148: LinAlgWarning: Ill-conditioned matrix (rcond=2.39669e-20): result may not be accurate.\n",
      "  overwrite_a=True).T\n"
     ]
    },
    {
     "name": "stdout",
     "output_type": "stream",
     "text": [
      "\n",
      "[Degree = 7]\n",
      "Train&Valid Misclassified samples: 26136 , 6702\n",
      "Train&Valid Accuracy: 0.62 , 0.61\n"
     ]
    },
    {
     "name": "stderr",
     "output_type": "stream",
     "text": [
      "C:\\Users\\user\\anaconda3\\lib\\site-packages\\sklearn\\linear_model\\_ridge.py:148: LinAlgWarning: Ill-conditioned matrix (rcond=1.97707e-23): result may not be accurate.\n",
      "  overwrite_a=True).T\n"
     ]
    },
    {
     "name": "stdout",
     "output_type": "stream",
     "text": [
      "\n",
      "[Degree = 8]\n",
      "Train&Valid Misclassified samples: 26102 , 6672\n",
      "Train&Valid Accuracy: 0.62 , 0.61\n",
      "\n",
      "[Degree = 9]\n",
      "Train&Valid Misclassified samples: 26078 , 6681\n",
      "Train&Valid Accuracy: 0.62 , 0.61\n",
      "\n",
      "[Degree = 10]\n",
      "Train&Valid Misclassified samples: 26043 , 6697\n",
      "Train&Valid Accuracy: 0.62 , 0.61\n"
     ]
    },
    {
     "data": {
      "image/png": "[encoded data removed]",
      "text/plain": [
       "<Figure size 432x288 with 1 Axes>"
      ]
     },
     "metadata": {},
     "output_type": "display_data"
    }
   ],
   "source": [
    "from sklearn.linear_model import Ridge\n",
    "from sklearn.preprocessing import StandardScaler\n",
    "from matplotlib import pyplot\n",
    "\n",
    "n = [1, 2, 3, 4, 5, 6, 7, 8, 9, 10]\n",
    "results_train = list()\n",
    "results_valid = list()\n",
    "for d in range(1, 11):\n",
    "    \n",
    "    X_train = pd.read_csv('X_train.csv')\n",
    "    y_train = pd.read_csv('y_train.csv')\n",
    "\n",
    "    sc = StandardScaler()\n",
    "    X_std = sc.fit_transform(X_train)\n",
    "    X_std = X_std[:,(4,5,7)]\n",
    "\n",
    "    poly = PolynomialFeatures(degree=d)\n",
    "    X_poly = poly.fit_transform(X_std)\n",
    "\n",
    "    X_train, X_valid, y_train, y_valid = train_test_split(\n",
    "        X_poly, y_train, test_size=0.2, random_state=0)\n",
    "    \n",
    "    \n",
    "    rg = Ridge(alpha=100)\n",
    "    rg.fit(X_train, y_train)\n",
    "    \n",
    "    y_train_pred = rg.predict(X_train)\n",
    "    y_valid_pred = rg.predict(X_valid)\n",
    "\n",
    "    y_train_pred = np.where(y_train_pred>0.5,1,0).reshape(-1,1) \n",
    "    y_valid_pred = np.where(y_valid_pred>0.5,1,0).reshape(-1,1) \n",
    "    \n",
    "    print('\\n[Degree = %d]' % d) \n",
    "\n",
    "    print('Train&Valid Misclassified samples: %d , %d' % ((y_train != y_train_pred).sum(), \n",
    "                                  (y_valid != y_valid_pred).sum()))\n",
    "    print('Train&Valid Accuracy: %.2f , %.2f' % (accuracy_score(y_train, y_train_pred),\n",
    "                              accuracy_score(y_valid, y_valid_pred))) \n",
    "    \n",
    "    mis_valid = (y_valid != y_valid_pred).sum()\n",
    "    results_valid.append(mis_valid)\n",
    "    \n",
    "pyplot.plot(n, results_valid, label = 'Valid', color = 'blue', linewidth = 2)\n",
    "pyplot.xlabel('Model complexity (polynomial degree)')\n",
    "pyplot.ylabel('Valid Misclassified samples')\n",
    "pyplot.show()"
   ]
  },
  {
   "cell_type": "markdown",
   "metadata": {
    "id": "9WnanncnoqvM"
   },
   "source": [
    "Degree = 8 的時候表現最好"
   ]
  },
  {
   "cell_type": "markdown",
   "metadata": {
    "id": "G7ixQD9SwcuV"
   },
   "source": [
    "### **挑選 Threshold**"
   ]
  },
  {
   "cell_type": "code",
   "execution_count": 30,
   "metadata": {
    "colab": {
     "base_uri": "https://localhost:8080/",
     "height": 351
    },
    "executionInfo": {
     "elapsed": 3108,
     "status": "ok",
     "timestamp": 1602152926414,
     "user": {
      "displayName": "劉Liou",
      "photoUrl": "",
      "userId": "02836819393303490935"
     },
     "user_tz": -480
    },
    "id": "sVn9UfTHvq5r",
    "outputId": "0198e989-6f69-44bf-cc94-511fbba5f6c1"
   },
   "outputs": [
    {
     "name": "stderr",
     "output_type": "stream",
     "text": [
      "C:\\Users\\user\\anaconda3\\lib\\site-packages\\sklearn\\linear_model\\_ridge.py:148: LinAlgWarning: Ill-conditioned matrix (rcond=1.97707e-23): result may not be accurate.\n",
      "  overwrite_a=True).T\n"
     ]
    },
    {
     "data": {
      "image/png": "[encoded data removed]",
      "text/plain": [
       "<Figure size 432x288 with 1 Axes>"
      ]
     },
     "metadata": {},
     "output_type": "display_data"
    },
    {
     "data": {
      "text/plain": [
       "array([0.5])"
      ]
     },
     "execution_count": 30,
     "metadata": {},
     "output_type": "execute_result"
    }
   ],
   "source": [
    "X_train = pd.read_csv('X_train.csv')\n",
    "y_train = pd.read_csv('y_train.csv')\n",
    "\n",
    "sc = StandardScaler()\n",
    "X_std = sc.fit_transform(X_train)\n",
    "X_std = X_std[:,(4,5,7)]\n",
    "\n",
    "poly = PolynomialFeatures(degree=8)\n",
    "X_poly = poly.fit_transform(X_std)\n",
    "\n",
    "X_train, X_valid, y_train, y_valid = train_test_split(\n",
    "    X_poly, y_train, test_size=0.2, random_state=0)\n",
    "a = np.arange(0.4, 0.6, 0.01)\n",
    "results_valid=[]\n",
    "rg = Ridge(alpha=100)\n",
    "rg.fit(X_train, y_train)\n",
    "\n",
    "for n in a:\n",
    "\n",
    "    y_train_pred = rg.predict(X_train)\n",
    "    y_valid_pred = rg.predict(X_valid)\n",
    "\n",
    "\n",
    "    y_train_pred = np.where(y_train_pred>n,1,0)\n",
    "    y_valid_pred = np.where(y_valid_pred>n,1,0)\n",
    "    # print('\\n[Alpha = %.2f]' % n )\n",
    "    # print('Train&Valid Misclassified samples: %d , %d' % ((y_train != y_train_pred).sum(), \n",
    "    #                               (y_valid != y_valid_pred).sum()))\n",
    "    # print('Train&Valid Accuracy: %.2f , %.2f' % (accuracy_score(y_train, y_train_pred),\n",
    "    #                           accuracy_score(y_valid, y_valid_pred)))\n",
    "    acc_valid = (y_valid != y_valid_pred).sum()\n",
    "    results_valid.append(acc_valid)\n",
    "    \n",
    "pyplot.plot(a, results_valid, label = 'Valid', color = 'blue', linewidth = 2)\n",
    "pyplot.xlabel('Threshold')\n",
    "pyplot.ylabel('Valid Misclassified samples')\n",
    "pyplot.show()\n",
    "c = pd.DataFrame(results_valid)\n",
    "a[c.idxmin()]"
   ]
  },
  {
   "cell_type": "markdown",
   "metadata": {
    "id": "EW8JISwYwhta"
   },
   "source": [
    "Threshold = 0.5 時表現最好"
   ]
  },
  {
   "cell_type": "markdown",
   "metadata": {
    "id": "z2oWX3bZnIl0"
   },
   "source": [
    "## **Random Forest Regression**"
   ]
  },
  {
   "cell_type": "code",
   "execution_count": 8,
   "metadata": {
    "colab": {
     "base_uri": "https://localhost:8080/",
     "height": 107
    },
    "executionInfo": {
     "elapsed": 20593,
     "status": "ok",
     "timestamp": 1602162176287,
     "user": {
      "displayName": "劉Liou",
      "photoUrl": "",
      "userId": "02836819393303490935"
     },
     "user_tz": -480
    },
    "id": "36MOxHkDm_nE",
    "outputId": "a6cbfcf0-5d36-412c-8004-0ed986e1c99c"
   },
   "outputs": [
    {
     "name": "stderr",
     "output_type": "stream",
     "text": [
      "C:\\Users\\user\\AppData\\Roaming\\Python\\Python37\\site-packages\\ipykernel_launcher.py:12: DataConversionWarning: A column-vector y was passed when a 1d array was expected. Please change the shape of y to (n_samples,), for example using ravel().\n",
      "  if sys.path[0] == '':\n"
     ]
    },
    {
     "name": "stdout",
     "output_type": "stream",
     "text": [
      "Train&Valid Misclassified samples: 17126 , 6658\n",
      "Train&Valid Accuracy: 0.75 , 0.61\n"
     ]
    }
   ],
   "source": [
    "from sklearn.ensemble import RandomForestRegressor\n",
    "\n",
    "X_train = pd.read_csv('X_train.csv')\n",
    "y_train = pd.read_csv('y_train.csv')\n",
    "\n",
    "X_train, X_valid, y_train, y_valid = train_test_split(\n",
    "         X_train, y_train, test_size=0.2, random_state=0)\n",
    "\n",
    "\n",
    "forest = RandomForestRegressor(\n",
    "    n_estimators=300, criterion='mse', random_state=0, n_jobs=-1, max_depth=15, max_features=2)\n",
    "forest.fit(X_train, y_train) \n",
    "\n",
    "y_train_pred = forest.predict(X_train)\n",
    "y_valid_pred = forest.predict(X_valid)\n",
    "\n",
    "y_train_pred = np.where(y_train_pred>0.5,1,0).reshape(-1,1) \n",
    "y_valid_pred = np.where(y_valid_pred>0.5,1,0).reshape(-1,1)\n",
    "\n",
    "\n",
    "print('Train&Valid Misclassified samples: %d , %d' % ((y_train != y_train_pred).sum(), \n",
    "                                  (y_valid != y_valid_pred).sum()))\n",
    "print('Train&Valid Accuracy: %.2f , %.2f' % (accuracy_score(y_train, y_train_pred),\n",
    "                              accuracy_score(y_valid, y_valid_pred)))\n",
    "\n"
   ]
  },
  {
   "cell_type": "markdown",
   "metadata": {
    "id": "4w2ibc4oxhXd"
   },
   "source": [
    "### **挑選 Threshold**"
   ]
  },
  {
   "cell_type": "code",
   "execution_count": 32,
   "metadata": {
    "colab": {
     "base_uri": "https://localhost:8080/",
     "height": 663
    },
    "executionInfo": {
     "elapsed": 191354,
     "status": "ok",
     "timestamp": 1602162452342,
     "user": {
      "displayName": "劉Liou",
      "photoUrl": "",
      "userId": "02836819393303490935"
     },
     "user_tz": -480
    },
    "id": "aX0_Y0OcxhAz",
    "outputId": "b6fddace-8cf6-4e7a-9abe-afd5d8ce09ac"
   },
   "outputs": [
    {
     "name": "stderr",
     "output_type": "stream",
     "text": [
      "C:\\Users\\user\\AppData\\Roaming\\Python\\Python37\\site-packages\\ipykernel_launcher.py:14: DataConversionWarning: A column-vector y was passed when a 1d array was expected. Please change the shape of y to (n_samples,), for example using ravel().\n",
      "  \n",
      "C:\\Users\\user\\AppData\\Roaming\\Python\\Python37\\site-packages\\ipykernel_launcher.py:14: DataConversionWarning: A column-vector y was passed when a 1d array was expected. Please change the shape of y to (n_samples,), for example using ravel().\n",
      "  \n",
      "C:\\Users\\user\\AppData\\Roaming\\Python\\Python37\\site-packages\\ipykernel_launcher.py:14: DataConversionWarning: A column-vector y was passed when a 1d array was expected. Please change the shape of y to (n_samples,), for example using ravel().\n",
      "  \n",
      "C:\\Users\\user\\AppData\\Roaming\\Python\\Python37\\site-packages\\ipykernel_launcher.py:14: DataConversionWarning: A column-vector y was passed when a 1d array was expected. Please change the shape of y to (n_samples,), for example using ravel().\n",
      "  \n",
      "C:\\Users\\user\\AppData\\Roaming\\Python\\Python37\\site-packages\\ipykernel_launcher.py:14: DataConversionWarning: A column-vector y was passed when a 1d array was expected. Please change the shape of y to (n_samples,), for example using ravel().\n",
      "  \n",
      "C:\\Users\\user\\AppData\\Roaming\\Python\\Python37\\site-packages\\ipykernel_launcher.py:14: DataConversionWarning: A column-vector y was passed when a 1d array was expected. Please change the shape of y to (n_samples,), for example using ravel().\n",
      "  \n",
      "C:\\Users\\user\\AppData\\Roaming\\Python\\Python37\\site-packages\\ipykernel_launcher.py:14: DataConversionWarning: A column-vector y was passed when a 1d array was expected. Please change the shape of y to (n_samples,), for example using ravel().\n",
      "  \n",
      "C:\\Users\\user\\AppData\\Roaming\\Python\\Python37\\site-packages\\ipykernel_launcher.py:14: DataConversionWarning: A column-vector y was passed when a 1d array was expected. Please change the shape of y to (n_samples,), for example using ravel().\n",
      "  \n",
      "C:\\Users\\user\\AppData\\Roaming\\Python\\Python37\\site-packages\\ipykernel_launcher.py:14: DataConversionWarning: A column-vector y was passed when a 1d array was expected. Please change the shape of y to (n_samples,), for example using ravel().\n",
      "  \n",
      "C:\\Users\\user\\AppData\\Roaming\\Python\\Python37\\site-packages\\ipykernel_launcher.py:14: DataConversionWarning: A column-vector y was passed when a 1d array was expected. Please change the shape of y to (n_samples,), for example using ravel().\n",
      "  \n"
     ]
    },
    {
     "data": {
      "image/png": "[encoded data removed]",
      "text/plain": [
       "<Figure size 432x288 with 1 Axes>"
      ]
     },
     "metadata": {},
     "output_type": "display_data"
    },
    {
     "data": {
      "text/plain": [
       "array([0.51])"
      ]
     },
     "execution_count": 32,
     "metadata": {},
     "output_type": "execute_result"
    }
   ],
   "source": [
    "X_train = pd.read_csv('X_train.csv')\n",
    "y_train = pd.read_csv('y_train.csv')\n",
    "\n",
    "X_train, X_valid, y_train, y_valid = train_test_split(\n",
    "         X_train, y_train, test_size=0.2, random_state=0)\n",
    "\n",
    "a = np.arange(0.5, 0.6, 0.01)\n",
    "results_valid=[]\n",
    "\n",
    "for n in a:\n",
    "\n",
    "    forest = RandomForestRegressor(\n",
    "        n_estimators=300, criterion='mse', random_state=0, n_jobs=-1, max_depth=15, max_features=2)\n",
    "    forest.fit(X_train, y_train) \n",
    "\n",
    "    y_train_pred = forest.predict(X_train)\n",
    "    y_valid_pred = forest.predict(X_valid)\n",
    "\n",
    "    y_train_pred = np.where(y_train_pred>n,1,0).reshape(-1,1) \n",
    "    y_valid_pred = np.where(y_valid_pred>n,1,0).reshape(-1,1)\n",
    "\n",
    "    acc_valid = (y_valid != y_valid_pred).sum()\n",
    "    results_valid.append(acc_valid)\n",
    "    \n",
    "pyplot.plot(a, results_valid, label = 'Valid', color = 'blue', linewidth = 2)\n",
    "pyplot.xlabel('Threshold')\n",
    "pyplot.ylabel('Valid Misclassified samples')\n",
    "pyplot.show()\n",
    "c = pd.DataFrame(results_valid)\n",
    "a[c.idxmin()]\n"
   ]
  },
  {
   "cell_type": "markdown",
   "metadata": {
    "id": "6JNl6u-6K3ES"
   },
   "source": [
    "Threshold = 0.51 時表現最好"
   ]
  },
  {
   "cell_type": "markdown",
   "metadata": {
    "id": "0Jl_YgNW_Ddg"
   },
   "source": [
    "## **Boosting**"
   ]
  },
  {
   "cell_type": "code",
   "execution_count": null,
   "metadata": {
    "colab": {
     "base_uri": "https://localhost:8080/",
     "height": 107
    },
    "executionInfo": {
     "elapsed": 803221,
     "status": "ok",
     "timestamp": 1602163611980,
     "user": {
      "displayName": "劉Liou",
      "photoUrl": "",
      "userId": "02836819393303490935"
     },
     "user_tz": -480
    },
    "id": "sN4YMz6v_IGM",
    "outputId": "80361eb1-2d46-4f2b-8489-4a86179590e5"
   },
   "outputs": [],
   "source": [
    "import numpy as np\n",
    "import pandas as pd\n",
    "from sklearn import ensemble, preprocessing, metrics\n",
    "\n",
    "X_train = pd.read_csv('X_train.csv')\n",
    "y_train = pd.read_csv('y_train.csv')\n",
    "\n",
    "#X_train = X_train.values\n",
    "#X_train = X_train[:,(4,5,7)]\n",
    "\n",
    "X_train, X_valid, y_train, y_valid = train_test_split(\n",
    "        X_train, y_train, test_size=0.2, random_state=0)\n",
    "\n",
    "bag = ensemble.BaggingClassifier(RandomForestClassifier(max_depth=15, max_features=2, n_estimators=300), n_estimators = 100 )\n",
    "bag_fit = bag.fit(X_train, y_train)\n",
    "\n",
    "y_valid_pred = bag.predict(X_valid).reshape(-1,1)\n",
    "\n",
    "accuracy = metrics.accuracy_score(y_valid, y_valid_pred)\n",
    "print('Misclassified samples: %d' % (y_valid != y_valid_pred).sum())\n",
    "print(accuracy)"
   ]
  },
  {
   "cell_type": "markdown",
   "metadata": {
    "id": "-Xe7yqHWYe4k"
   },
   "source": [
    "## **AdaBoost**"
   ]
  },
  {
   "cell_type": "code",
   "execution_count": null,
   "metadata": {
    "colab": {
     "base_uri": "https://localhost:8080/",
     "height": 72
    },
    "id": "a38ZvnrhYi_h",
    "outputId": "ca9ee6c3-bd1c-45eb-b5e4-c9834b83fd2f"
   },
   "outputs": [],
   "source": [
    "import numpy as np\n",
    "import pandas as pd\n",
    "from sklearn import ensemble, preprocessing, metrics\n",
    "\n",
    "X_train = pd.read_csv('X_train.csv')\n",
    "y_train = pd.read_csv('y_train.csv')\n",
    "\n",
    "#X_train = X_train.values\n",
    "#X_train = X_train[:,(4,5,7)]\n",
    "\n",
    "X_train, X_valid, y_train, y_valid = train_test_split(\n",
    "        X_train, y_train, test_size=0.2, random_state=0)\n",
    "\n",
    "\n",
    "boost = ensemble.AdaBoostClassifier(RandomForestClassifier(max_depth=15, max_features=2,n_estimators=300), n_estimators = 100)\n",
    "boost_fit = boost.fit(X_train, y_train)\n",
    "\n",
    "y_valid_pred = boost.predict(X_valid)\n",
    "\n",
    "accuracy = metrics.accuracy_score(y_valid, y_valid_pred)\n",
    "print(accuracy)"
   ]
  },
  {
   "cell_type": "markdown",
   "metadata": {
    "id": "bJZilvJK_IbM"
   },
   "source": [
    "## **Logistic**"
   ]
  },
  {
   "cell_type": "code",
   "execution_count": 41,
   "metadata": {
    "colab": {
     "base_uri": "https://localhost:8080/",
     "height": 89
    },
    "executionInfo": {
     "elapsed": 1882,
     "status": "ok",
     "timestamp": 1602103741525,
     "user": {
      "displayName": "劉Liou",
      "photoUrl": "",
      "userId": "02836819393303490935"
     },
     "user_tz": -480
    },
    "id": "X5x2oojjYik_",
    "outputId": "3d413c7a-3578-4ea7-a157-f1e48839cc86",
    "scrolled": true
   },
   "outputs": [
    {
     "name": "stderr",
     "output_type": "stream",
     "text": [
      "C:\\Users\\user\\anaconda3\\lib\\site-packages\\sklearn\\utils\\validation.py:760: DataConversionWarning: A column-vector y was passed when a 1d array was expected. Please change the shape of y to (n_samples, ), for example using ravel().\n",
      "  y = column_or_1d(y, warn=True)\n"
     ]
    },
    {
     "name": "stdout",
     "output_type": "stream",
     "text": [
      "0.6085942510640779\n"
     ]
    }
   ],
   "source": [
    "import pandas as pd\n",
    "import numpy as np\n",
    "from sklearn import preprocessing, linear_model\n",
    "\n",
    "X_train = pd.read_csv('X_train.csv')\n",
    "y_train = pd.read_csv('y_train.csv')\n",
    "\n",
    "#X_train = X_train.values\n",
    "#X_train = X_train[:,(4,5,7)]\n",
    "\n",
    "X_train, X_valid, y_train, y_valid = train_test_split(\n",
    "        X_train, y_train, test_size=0.2, random_state=0)\n",
    "\n",
    "\n",
    "logistic_regr = linear_model.LogisticRegression()\n",
    "logistic_regr.fit(X_train, y_train)\n",
    "\n",
    "y_valid_pred = logistic_regr.predict(X_valid)\n",
    "accuracy = logistic_regr.score(X_valid, y_valid)\n",
    "print(accuracy)"
   ]
  },
  {
   "cell_type": "markdown",
   "metadata": {
    "id": "6ZmbyU6OSzkY"
   },
   "source": [
    "## **綜合以上各自挑到表現最好的方法比較**"
   ]
  },
  {
   "cell_type": "markdown",
   "metadata": {
    "id": "vN_5R5RvskCT"
   },
   "source": [
    "### Ridge"
   ]
  },
  {
   "cell_type": "code",
   "execution_count": 49,
   "metadata": {
    "colab": {
     "base_uri": "https://localhost:8080/",
     "height": 52
    },
    "executionInfo": {
     "elapsed": 2394,
     "status": "ok",
     "timestamp": 1602158091172,
     "user": {
      "displayName": "劉Liou",
      "photoUrl": "",
      "userId": "02836819393303490935"
     },
     "user_tz": -480
    },
    "id": "L1u2ZhhSrCSK",
    "outputId": "3e64558e-25a9-4939-db31-fdf89f1425ef"
   },
   "outputs": [
    {
     "name": "stdout",
     "output_type": "stream",
     "text": [
      "Train&Valid Misclassified samples: 26133 , 6664\n",
      "Train&Valid Accuracy: 0.62 , 0.61\n"
     ]
    }
   ],
   "source": [
    "X_train = pd.read_csv('X_train.csv')\n",
    "y_train = pd.read_csv('y_train.csv')\n",
    "\n",
    "sc = StandardScaler()\n",
    "X_std = sc.fit_transform(X_train)\n",
    "\n",
    "poly = PolynomialFeatures(degree=3)\n",
    "X_poly = poly.fit_transform(X_std)\n",
    "\n",
    "X_train, X_valid, y_train, y_valid = train_test_split(\n",
    "        X_poly, y_train, test_size=0.2, random_state=0)\n",
    "\n",
    "lr_rg = Ridge(alpha=100)\n",
    "lr_rg.fit(X_train, y_train)\n",
    "\n",
    "y_train_pred = lr_rg.predict(X_train)\n",
    "y_valid_pred = lr_rg.predict(X_valid)\n",
    "\n",
    "y_train_pred = np.where(y_train_pred>0.51,1,0)\n",
    "y_valid_pred = np.where(y_valid_pred>0.51,1,0)\n",
    "\n",
    "# Print confusion Matrix\n",
    "from sklearn.metrics import confusion_matrix\n",
    "confusion_matrix(y_valid, y_valid_pred)\n",
    "\n",
    "print('Train&Valid Misclassified samples: %d , %d' % ((y_train != y_train_pred).sum(), \n",
    "                                  (y_valid != y_valid_pred).sum()))\n",
    "print('Train&Valid Accuracy: %.2f , %.2f' % (accuracy_score(y_train, y_train_pred),\n",
    "                              accuracy_score(y_valid, y_valid_pred)))    "
   ]
  },
  {
   "cell_type": "markdown",
   "metadata": {
    "id": "Nx_MCIBas5vZ"
   },
   "source": [
    "### LASSO"
   ]
  },
  {
   "cell_type": "code",
   "execution_count": 50,
   "metadata": {
    "colab": {
     "base_uri": "https://localhost:8080/",
     "height": 173
    },
    "executionInfo": {
     "elapsed": 21286,
     "status": "ok",
     "timestamp": 1602155521255,
     "user": {
      "displayName": "劉Liou",
      "photoUrl": "",
      "userId": "02836819393303490935"
     },
     "user_tz": -480
    },
    "id": "YjdrsOogsm9k",
    "outputId": "9dedb101-a323-4d47-fc65-783293eecd03"
   },
   "outputs": [
    {
     "name": "stderr",
     "output_type": "stream",
     "text": [
      "C:\\Users\\user\\AppData\\Roaming\\Python\\Python37\\site-packages\\ipykernel_launcher.py:14: UserWarning: With alpha=0, this algorithm does not converge well. You are advised to use the LinearRegression estimator\n",
      "  \n",
      "C:\\Users\\user\\anaconda3\\lib\\site-packages\\sklearn\\linear_model\\_coordinate_descent.py:476: UserWarning: Coordinate descent with no regularization may lead to unexpected results and is discouraged.\n",
      "  positive)\n"
     ]
    },
    {
     "name": "stdout",
     "output_type": "stream",
     "text": [
      "Train&Valid Misclassified samples: 26346 , 6661\n",
      "Train&Valid Accuracy: 0.62 , 0.61\n"
     ]
    },
    {
     "name": "stderr",
     "output_type": "stream",
     "text": [
      "C:\\Users\\user\\anaconda3\\lib\\site-packages\\sklearn\\linear_model\\_coordinate_descent.py:476: ConvergenceWarning: Objective did not converge. You might want to increase the number of iterations. Duality gap: 7896.1108131296005, tolerance: 1.6993458760932953\n",
      "  positive)\n"
     ]
    }
   ],
   "source": [
    "X_train = pd.read_csv('X_train.csv')\n",
    "y_train = pd.read_csv('y_train.csv')\n",
    "\n",
    "sc = StandardScaler()\n",
    "X_std = sc.fit_transform(X_train)\n",
    "\n",
    "poly = PolynomialFeatures(degree=3)\n",
    "X_poly = poly.fit_transform(X_std)\n",
    "\n",
    "X_train, X_valid, y_train, y_valid = train_test_split(\n",
    "        X_poly, y_train, test_size=0.2, random_state=0)\n",
    "\n",
    "lr_rg = Lasso(alpha=0)\n",
    "lr_rg.fit(X_train, y_train)\n",
    "\n",
    "y_train_pred = lr_rg.predict(X_train)\n",
    "y_valid_pred = lr_rg.predict(X_valid)\n",
    "\n",
    "y_train_pred = np.where(y_train_pred>0.47,1,0).reshape(-1,1) \n",
    "y_valid_pred = np.where(y_valid_pred>0.47,1,0).reshape(-1,1) \n",
    "\n",
    "# Print confusion Matrix\n",
    "from sklearn.metrics import confusion_matrix\n",
    "confusion_matrix(y_valid, y_valid_pred)\n",
    "print('Train&Valid Misclassified samples: %d , %d' % ((y_train != y_train_pred).sum(), \n",
    "                                  (y_valid != y_valid_pred).sum()))\n",
    "print('Train&Valid Accuracy: %.2f , %.2f' % (accuracy_score(y_train, y_train_pred),\n",
    "                              accuracy_score(y_valid, y_valid_pred)))     "
   ]
  },
  {
   "cell_type": "markdown",
   "metadata": {
    "id": "o6vQI2K1uMPp"
   },
   "source": [
    "### Random Forest"
   ]
  },
  {
   "cell_type": "code",
   "execution_count": 51,
   "metadata": {
    "colab": {
     "base_uri": "https://localhost:8080/",
     "height": 85
    },
    "executionInfo": {
     "elapsed": 40458,
     "status": "ok",
     "timestamp": 1602155561728,
     "user": {
      "displayName": "劉Liou",
      "photoUrl": "",
      "userId": "02836819393303490935"
     },
     "user_tz": -480
    },
    "id": "14cVPuvwtm0f",
    "outputId": "c550782c-4294-4e53-a8b5-33a3e760ad1e"
   },
   "outputs": [
    {
     "name": "stderr",
     "output_type": "stream",
     "text": [
      "C:\\Users\\user\\AppData\\Roaming\\Python\\Python37\\site-packages\\ipykernel_launcher.py:10: DataConversionWarning: A column-vector y was passed when a 1d array was expected. Please change the shape of y to (n_samples,), for example using ravel().\n",
      "  # Remove the CWD from sys.path while we load stuff.\n"
     ]
    },
    {
     "name": "stdout",
     "output_type": "stream",
     "text": [
      "Train&Valid Misclassified samples: 26346 , 6629\n",
      "Train&Valid Accuracy: 0.62 , 0.61\n"
     ]
    }
   ],
   "source": [
    "X_train = pd.read_csv('X_train.csv')\n",
    "y_train = pd.read_csv('y_train.csv')\n",
    "\n",
    "\n",
    "X_train, X_valid, y_train, y_valid = train_test_split(\n",
    "        X_train, y_train, test_size=0.2, random_state=0)\n",
    "    \n",
    "\n",
    "forest = RandomForestClassifier(criterion='entropy',n_estimators=300, random_state=0, n_jobs=2, max_features=2, max_depth=15)\n",
    "forest.fit(X_train, y_train)\n",
    "\n",
    "y_valid_pred = forest.predict(X_valid).reshape(-1,1)\n",
    "confusion_matrix(y_valid, y_valid_pred)\n",
    "print('Train&Valid Misclassified samples: %d , %d' % ((y_train != y_train_pred).sum(), \n",
    "                                  (y_valid != y_valid_pred).sum()))\n",
    "print('Train&Valid Accuracy: %.2f , %.2f' % (accuracy_score(y_train, y_train_pred),\n",
    "                              accuracy_score(y_valid, y_valid_pred)))    "
   ]
  },
  {
   "cell_type": "markdown",
   "metadata": {
    "id": "w4jl5iJZu3YF"
   },
   "source": [
    "### Polynomial&Ridge\n"
   ]
  },
  {
   "cell_type": "code",
   "execution_count": 52,
   "metadata": {
    "colab": {
     "base_uri": "https://localhost:8080/",
     "height": 85
    },
    "executionInfo": {
     "elapsed": 40860,
     "status": "ok",
     "timestamp": 1602155562146,
     "user": {
      "displayName": "劉Liou",
      "photoUrl": "",
      "userId": "02836819393303490935"
     },
     "user_tz": -480
    },
    "id": "E7cOUEc5u4J2",
    "outputId": "fd5e8656-0a29-4eed-eed2-1a2154d0f46c"
   },
   "outputs": [
    {
     "name": "stdout",
     "output_type": "stream",
     "text": [
      "Train&Valid Misclassified samples: 26102 , 6672\n",
      "Train&Valid Accuracy: 0.62 , 0.61\n"
     ]
    },
    {
     "name": "stderr",
     "output_type": "stream",
     "text": [
      "C:\\Users\\user\\anaconda3\\lib\\site-packages\\sklearn\\linear_model\\_ridge.py:148: LinAlgWarning: Ill-conditioned matrix (rcond=1.97707e-23): result may not be accurate.\n",
      "  overwrite_a=True).T\n"
     ]
    }
   ],
   "source": [
    "X_train = pd.read_csv('X_train.csv')\n",
    "y_train = pd.read_csv('y_train.csv')\n",
    "\n",
    "sc = StandardScaler()\n",
    "X_std = sc.fit_transform(X_train)\n",
    "X_std = X_std[:,(4,5,7)]\n",
    "\n",
    "poly = PolynomialFeatures(degree=8)\n",
    "X_poly = poly.fit_transform(X_std)\n",
    "\n",
    "X_train, X_valid, y_train, y_valid = train_test_split(\n",
    "     X_poly, y_train, test_size=0.2, random_state=0)\n",
    "    \n",
    "    \n",
    "rg = Ridge(alpha=100)\n",
    "rg.fit(X_train, y_train)\n",
    "    \n",
    "y_train_pred = rg.predict(X_train)\n",
    "y_valid_pred = rg.predict(X_valid)\n",
    "\n",
    "y_train_pred = np.where(y_train_pred>0.5,1,0).reshape(-1,1) \n",
    "y_valid_pred = np.where(y_valid_pred>0.5,1,0).reshape(-1,1)\n",
    "\n",
    "confusion_matrix(y_valid, y_valid_pred)\n",
    "print('Train&Valid Misclassified samples: %d , %d' % ((y_train != y_train_pred).sum(), \n",
    "                                  (y_valid != y_valid_pred).sum()))\n",
    "print('Train&Valid Accuracy: %.2f , %.2f' % (accuracy_score(y_train, y_train_pred),\n",
    "                              accuracy_score(y_valid, y_valid_pred)))    "
   ]
  },
  {
   "cell_type": "markdown",
   "metadata": {
    "id": "dgM4jkWuxEc4"
   },
   "source": [
    "### Random Forest Regression"
   ]
  },
  {
   "cell_type": "code",
   "execution_count": 39,
   "metadata": {
    "colab": {
     "base_uri": "https://localhost:8080/",
     "height": 107
    },
    "executionInfo": {
     "elapsed": 79485,
     "status": "ok",
     "timestamp": 1602155294645,
     "user": {
      "displayName": "劉Liou",
      "photoUrl": "",
      "userId": "02836819393303490935"
     },
     "user_tz": -480
    },
    "id": "Y_SXCGE0xE9s",
    "outputId": "a8c4c6e9-ea37-411a-bd41-9e63639ed4d3"
   },
   "outputs": [
    {
     "name": "stderr",
     "output_type": "stream",
     "text": [
      "C:\\Users\\user\\AppData\\Roaming\\Python\\Python37\\site-packages\\ipykernel_launcher.py:10: DataConversionWarning: A column-vector y was passed when a 1d array was expected. Please change the shape of y to (n_samples,), for example using ravel().\n",
      "  # Remove the CWD from sys.path while we load stuff.\n"
     ]
    },
    {
     "name": "stdout",
     "output_type": "stream",
     "text": [
      "Train&Valid Misclassified samples: 17621 , 6641\n",
      "Train&Valid Accuracy: 0.74 , 0.61\n"
     ]
    }
   ],
   "source": [
    "X_train = pd.read_csv('X_train.csv')\n",
    "y_train = pd.read_csv('y_train.csv')\n",
    "\n",
    "X_train, X_valid, y_train, y_valid = train_test_split(\n",
    "         X_train, y_train, test_size=0.2, random_state=0)\n",
    "\n",
    "\n",
    "forest = RandomForestRegressor(\n",
    "    n_estimators=300, criterion='mse', random_state=0, n_jobs=-1, max_features=2, max_depth=15)\n",
    "forest.fit(X_train, y_train) \n",
    "\n",
    "y_train_pred = forest.predict(X_train)\n",
    "y_valid_pred = forest.predict(X_valid)\n",
    "\n",
    "y_train_pred = np.where(y_train_pred>0.51,1,0).reshape(-1,1)\n",
    "y_valid_pred = np.where(y_valid_pred>0.51,1,0).reshape(-1,1)\n",
    "\n",
    "#confusion_matrix(y_valid, y_valid_pred)\n",
    "\n",
    "print('Train&Valid Misclassified samples: %d , %d' % ((y_train != y_train_pred).sum(), \n",
    "                                  (y_valid != y_valid_pred).sum()))\n",
    "print('Train&Valid Accuracy: %.2f , %.2f' % (accuracy_score(y_train, y_train_pred),\n",
    "                              accuracy_score(y_valid, y_valid_pred)))    "
   ]
  },
  {
   "cell_type": "code",
   "execution_count": 41,
   "metadata": {
    "id": "3y7mj9vG1ySd"
   },
   "outputs": [
    {
     "name": "stderr",
     "output_type": "stream",
     "text": [
      "C:\\Users\\user\\AppData\\Roaming\\Python\\Python37\\site-packages\\ipykernel_launcher.py:12: DataConversionWarning: A column-vector y was passed when a 1d array was expected. Please change the shape of y to (n_samples,), for example using ravel().\n",
      "  if sys.path[0] == '':\n"
     ]
    }
   ],
   "source": [
    "X_train = pd.read_csv('X_train.csv')\n",
    "y_train = pd.read_csv('y_train.csv')\n",
    "\n",
    "X_test = pd.read_csv('X_test.csv')\n",
    "\n",
    "X_train, X_valid, y_train, y_valid = train_test_split(\n",
    "         X_train, y_train, test_size=0.2, random_state=0)\n",
    "\n",
    "\n",
    "forest = RandomForestRegressor(\n",
    "    n_estimators=300, criterion='mse', random_state=0, n_jobs=-1, max_features=2, max_depth=15)\n",
    "forest.fit(X_train, y_train) \n",
    "\n",
    "\n",
    "y_test_pred = forest.predict(X_test)\n",
    "y_test_pred = np.where(y_test_pred>0.51,1,0)\n",
    "\n",
    "sub = pd.DataFrame({'FGM': y_test_pred})\n",
    "\n",
    "sub.to_csv('y_pred.csv', index=False)\n"
   ]
  },
  {
   "cell_type": "markdown",
   "metadata": {
    "id": "BSEfEZrd790g"
   },
   "source": [
    "## **1. How you evaluate your model.**"
   ]
  },
  {
   "cell_type": "markdown",
   "metadata": {
    "id": "ytJleUc-LE0I"
   },
   "source": [
    "從上面的方法比較來看，可以發現表現都差不，而Random Forest Regression以很微小的差距比其他模型結果稍微好一點"
   ]
  },
  {
   "cell_type": "markdown",
   "metadata": {
    "id": "8VszHC_YST_L"
   },
   "source": [
    "## **2. All models you have tried and the corresponding results.**  \n",
    "請參閱上面\n"
   ]
  },
  {
   "cell_type": "markdown",
   "metadata": {
    "id": "xC11MyXMSdCQ"
   },
   "source": [
    "## **3. Plot the error curve of your best model and tell if it is over-fit or not.**"
   ]
  },
  {
   "cell_type": "code",
   "execution_count": 72,
   "metadata": {
    "id": "hiuPTX8HLzkl"
   },
   "outputs": [
    {
     "name": "stderr",
     "output_type": "stream",
     "text": [
      "C:\\Users\\user\\AppData\\Roaming\\Python\\Python37\\site-packages\\ipykernel_launcher.py:17: DataConversionWarning: A column-vector y was passed when a 1d array was expected. Please change the shape of y to (n_samples,), for example using ravel().\n",
      "C:\\Users\\user\\AppData\\Roaming\\Python\\Python37\\site-packages\\ipykernel_launcher.py:17: DataConversionWarning: A column-vector y was passed when a 1d array was expected. Please change the shape of y to (n_samples,), for example using ravel().\n",
      "C:\\Users\\user\\AppData\\Roaming\\Python\\Python37\\site-packages\\ipykernel_launcher.py:17: DataConversionWarning: A column-vector y was passed when a 1d array was expected. Please change the shape of y to (n_samples,), for example using ravel().\n"
     ]
    },
    {
     "data": {
      "image/png": "[encoded data removed]",
      "text/plain": [
       "<Figure size 432x288 with 1 Axes>"
      ]
     },
     "metadata": {},
     "output_type": "display_data"
    },
    {
     "data": {
      "text/plain": [
       "[FGM    6686\n",
       " dtype: int64,\n",
       " FGM    6641\n",
       " dtype: int64,\n",
       " FGM    6697\n",
       " dtype: int64]"
      ]
     },
     "execution_count": 72,
     "metadata": {},
     "output_type": "execute_result"
    }
   ],
   "source": [
    "X_train = pd.read_csv('X_train.csv')\n",
    "y_train = pd.read_csv('y_train.csv')\n",
    "\n",
    "\n",
    "X_train, X_valid, y_train, y_valid = train_test_split(\n",
    "            X_train, y_train, test_size=0.2, random_state=0)\n",
    "\n",
    "\n",
    "results_train=list()\n",
    "results_valid=list()\n",
    "\n",
    "n_deep = [8, 15, 20]\n",
    "for n in n_deep:    \n",
    "\n",
    "    forest = RandomForestRegressor(\n",
    "        n_estimators=300, criterion='mse', random_state=0, n_jobs=-1, max_features=2, max_depth=n)\n",
    "    forest.fit(X_train, y_train) \n",
    "\n",
    "    y_train_pred = forest.predict(X_train)\n",
    "    y_valid_pred = forest.predict(X_valid)\n",
    "\n",
    "    y_train_pred = np.where(y_train_pred>0.51,1,0).reshape(-1,1) \n",
    "    y_valid_pred = np.where(y_valid_pred>0.51,1,0).reshape(-1,1)\n",
    "    \n",
    "    mis_train = (y_train != y_train_pred).sum()\n",
    "    results_train.append(mis_train)\n",
    "    mis_valid = (y_valid != y_valid_pred).sum()\n",
    "    results_valid.append(mis_valid)\n",
    "    \n",
    "pyplot.plot(n_deep, results_valid, label = 'Valid', color = 'blue', linewidth = 2)\n",
    "pyplot.plot(n_deep, results_train, label = 'Train', color = 'red', linewidth = 2)\n",
    "pyplot.xlabel('Model complexity (polynomial degree)')\n",
    "pyplot.ylabel('Train&Valid Misclassified samples')\n",
    "plt.legend(loc='upper right')\n",
    "pyplot.show()\n",
    "results_valid"
   ]
  },
  {
   "cell_type": "markdown",
   "metadata": {},
   "source": [
    "可以看到隨著樹的深度越來越深，training data的Misclassified samples越來越少，但是valid的則是由小變大，由此可知樹的深度達到20時已經overfitting了。(圖中藍色線起伏不明顯，上面有附在不同深度時，valid set的Misclassified samples的個數，可以比較明顯的看到由小變大，所以深度為15時是沒有overfitting的)"
   ]
  },
  {
   "cell_type": "markdown",
   "metadata": {
    "id": "OJqOcuiwSl_e"
   },
   "source": [
    "## **4. The top-3 features you find and how you find it .**  \n",
    "Ridge找到的前三features:'TOUCH_TIME' 'SHOT_DIST' 'CLOSE_DEF_DIST'  \n",
    "(透過增加Alpha，去除掉最快收斂到0的變數，選擇絕對值前三大的三個變數)  \n",
    "透過Random Forest找到的前三features:'GAME_CLOCK' 'SHOT_DIST' 'SHOT_CLOCK'  \n",
    "(透過Feature Importance，選擇最大的前三個)\n"
   ]
  },
  {
   "cell_type": "markdown",
   "metadata": {
    "id": "xC3SINviSrLt"
   },
   "source": [
    "## **5. A brief report what you do in this assignment.**  \n",
    "發現模型的表現都大同小異，差距不大，只能透過一些參數的調整來達到較好的效果"
   ]
  }
 ],
 "metadata": {
  "colab": {
   "authorship_tag": "ABX9TyOIShmcTADrT1Cf7Rru5q94",
   "collapsed_sections": [],
   "name": "Lab05_108024522.ipynb",
   "provenance": []
  },
  "kernelspec": {
   "display_name": "Python 3",
   "language": "python",
   "name": "python3"
  },
  "language_info": {
   "codemirror_mode": {
    "name": "ipython",
    "version": 3
   },
   "file_extension": ".py",
   "mimetype": "text/x-python",
   "name": "python",
   "nbconvert_exporter": "python",
   "pygments_lexer": "ipython3",
   "version": "3.7.6"
  }
 },
 "nbformat": 4,
 "nbformat_minor": 1
}
